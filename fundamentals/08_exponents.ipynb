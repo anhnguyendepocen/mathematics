{
 "cells": [
  {
   "cell_type": "markdown",
   "metadata": {},
   "source": [
    "# The Number Systems of Mathematics\n",
    "\n",
    "# The Fundamentals Series\n",
    "\n",
    "## Exponents\n",
    "\n",
    "- 8.01 Exponents\n",
    "- 8.02 Rules of Exponents\n",
    "- 8.03 Power rule of Exponents\n",
    "- 8.04 Quotient rule for Exponents\n"
   ]
  },
  {
   "cell_type": "markdown",
   "metadata": {},
   "source": [
    "## 8.01 Exponents"
   ]
  },
  {
   "cell_type": "markdown",
   "metadata": {},
   "source": [
    "Exponents while initially confusing are a convenience for `repeated multiplication`. It is considerably easier for anyone to write out the exponent form of $2^{10} $ than it is to write 2 * 2 * 2 * 2 * 2 * 2 * 2 * 2 * 2 * 2. "
   ]
  },
  {
   "cell_type": "markdown",
   "metadata": {},
   "source": [
    "#### Example 1\n",
    "\n",
    "$7^2 = 7 \\cdot 7 = 49$"
   ]
  },
  {
   "cell_type": "markdown",
   "metadata": {},
   "source": [
    "#### Example 2\n",
    "\n",
    "$2^3 = 2 \\cdot 2 \\cdot 2 = 8$"
   ]
  },
  {
   "cell_type": "markdown",
   "metadata": {},
   "source": [
    "# Example 3\n",
    "\n",
    "$-4^2 = -4 \\cdot -4 = 16$"
   ]
  },
  {
   "cell_type": "code",
   "execution_count": null,
   "metadata": {},
   "outputs": [],
   "source": []
  },
  {
   "cell_type": "code",
   "execution_count": null,
   "metadata": {},
   "outputs": [],
   "source": []
  },
  {
   "cell_type": "markdown",
   "metadata": {},
   "source": [
    "## 8.02 Rules of Exponents "
   ]
  },
  {
   "cell_type": "markdown",
   "metadata": {},
   "source": [
    "When we want to find the sum of two exponential expressions we must have them n 'like terms', this means they same base and same exponent otherwise we cannot add or subtract them.\n",
    "\n",
    "#### 8.02.01 Addition and Subtraction of exponents \n",
    "$3x^2 + x^2$ can be performed because the bases are both $x$, the exponents are both $^2$ and the coefficient of $3$ has no blocking action. This results in $4x^2$.  So, for both addition and subtraction, if the base and exponent are the same we can make the operation in a standard approach. \n"
   ]
  },
  {
   "cell_type": "markdown",
   "metadata": {},
   "source": [
    "#### Example 1\n",
    "We can perform this operation because both the base and exponents are the same. This allows for a standard addition operation.\n",
    "\n",
    "$3x^2 + 2x^2 = 5x^2$\n"
   ]
  },
  {
   "cell_type": "markdown",
   "metadata": {},
   "source": [
    "#### Example 2\n",
    "\n",
    "A bad example where we **Cannot** perform an addition is: \n",
    "\n",
    "$x^3 + x^2$ \n",
    "\n",
    "Here the exponents are different even where the base is shared, this forbids an addition operation. As this example cannot be simplified it must remain as is."
   ]
  },
  {
   "cell_type": "markdown",
   "metadata": {},
   "source": [
    "#### Example 3\n",
    "\n",
    "$6x^4 - x^4$ = ?? \n",
    "\n",
    "The $x^4$ has an implied 1 in this case here, therefore the updated and explicit form is $6x^4 - 1x^4 = 5x^4$. "
   ]
  },
  {
   "cell_type": "code",
   "execution_count": null,
   "metadata": {},
   "outputs": [],
   "source": []
  },
  {
   "cell_type": "markdown",
   "metadata": {},
   "source": [
    "#### 8.02.02 Multiplication and division of Exponents \n",
    "Multiplication and division of exponential expressions is a little different. **For multiplication or division we need only the bases to be the same.** We do not need the exponent to be matched. "
   ]
  },
  {
   "cell_type": "markdown",
   "metadata": {},
   "source": [
    "#### Example 4\n",
    "\n",
    "we can see that we're effectively adding the exponents in this multiplication example. \n",
    "\n",
    "$x^4 \\cdot x^5$  = $x^9$\n",
    "\n",
    "to compound the rule we can say that for multiplication we follow the rule of addition in the case of the same base.\n",
    "\n",
    "$x^a \\cdot x^b = x^{a+b}$\n"
   ]
  },
  {
   "cell_type": "markdown",
   "metadata": {},
   "source": [
    "#### Example 5\n",
    "\n",
    "Similarly in the case of shared base a division operation is aligned to a subtraction. \n",
    "\n",
    "$x^5 \\div x^2$ = $x^3$"
   ]
  },
  {
   "cell_type": "markdown",
   "metadata": {},
   "source": [
    "#### Example 6\n",
    "multiplying a power by a power\n",
    "\n",
    "$(x^2)^3 = x^6$ "
   ]
  },
  {
   "cell_type": "markdown",
   "metadata": {},
   "source": [
    "#### Example 6\n",
    "Dealing with negative exponents \n",
    "\n",
    "$(- x^2)^3 = -x^6$"
   ]
  },
  {
   "cell_type": "code",
   "execution_count": null,
   "metadata": {},
   "outputs": [],
   "source": []
  },
  {
   "cell_type": "markdown",
   "metadata": {},
   "source": [
    "## 8.03 Power rule of Exponents\n",
    "\n",
    "The `power to a power` rule. Let's discover what happens when one exponential expression becomes the base of another. "
   ]
  },
  {
   "cell_type": "markdown",
   "metadata": {},
   "source": [
    "#### Example 1\n",
    "\n",
    "$(a^3)^2 = (aaa) \\cdot (aaa)$ or  $a^6$"
   ]
  },
  {
   "cell_type": "markdown",
   "metadata": {},
   "source": [
    "#### Example 2\n",
    "\n",
    "$(2^3)^2 = (2 \\cdot 2 \\cdot 2) \\cdot (2 \\cdot 2 \\cdot 2)$ or $2^6$ or $8^2 = 64$"
   ]
  },
  {
   "cell_type": "markdown",
   "metadata": {},
   "source": [
    "### Example 3\n",
    "\n",
    "Power of exponents and fractional simplification\n",
    "\n",
    "$(\\frac{x^2 y^3}{z})^3$ = $\\frac{(x^2 y^3)^3}{z^3}$ = $\\frac{x^6 y^9}{z^3}$\n",
    "\n"
   ]
  },
  {
   "cell_type": "markdown",
   "metadata": {},
   "source": [
    "#### Example 4\n",
    "\n",
    "Simplify the expression\n",
    "\n",
    "$x^9 y^{2x} x^{\\frac{9}{2}} y^{\\frac{3x}{4}}$ = $x^{9 + \\frac{9}{2}} y^{2x + \\frac{3x}{4}}$ = $x^{\\frac{27}{2}} y^{\\frac{8x}{4} + \\frac{3x}{4}}$"
   ]
  },
  {
   "cell_type": "markdown",
   "metadata": {},
   "source": [
    "## 8.04 Quotient rule of exponents "
   ]
  },
  {
   "cell_type": "code",
   "execution_count": null,
   "metadata": {},
   "outputs": [],
   "source": []
  }
 ],
 "metadata": {
  "kernelspec": {
   "display_name": "cvkit",
   "language": "python",
   "name": "cvkit"
  },
  "language_info": {
   "codemirror_mode": {
    "name": "ipython",
    "version": 3
   },
   "file_extension": ".py",
   "mimetype": "text/x-python",
   "name": "python",
   "nbconvert_exporter": "python",
   "pygments_lexer": "ipython3",
   "version": "3.6.6"
  }
 },
 "nbformat": 4,
 "nbformat_minor": 4
}
