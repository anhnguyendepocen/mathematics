{
 "cells": [
  {
   "cell_type": "markdown",
   "metadata": {},
   "source": [
    "# The Number Systems of Mathematics\n",
    "\n",
    "## Factors and Multiples\n",
    "\n",
    "- Divisibility\n",
    "- Multiples\n",
    "- Prime & composite\n",
    "- Factorization & product of primes\n",
    "- Least common multiple\n",
    "- Greatest common factor"
   ]
  },
  {
   "cell_type": "markdown",
   "metadata": {},
   "source": [
    "## Divisibility\n",
    "\n",
    "The study of numbers that can be divided by a lesser number evenly. \n",
    "\n",
    "- for 2, if a number is even, it wil be divisible by 2. \n",
    "- for 3, if the sume of the digits in the number can be divided by 3, then the number is divisible by 4. eg 126 = 9, 9 % 3 = 0.\n",
    "- for 4, if the last two digits are divisible by 4, the number is divisible by 4\n",
    "- for 5, it's easy, if number ends in zero or five it is divisible. \n",
    "- for 6, if divisible by 2 & 3, then number is divisible by 6\n",
    "- for 7, take last digit, multiple by 5 and add to the sum of other digits minus the one taken, if divisible by 7 then it works. \n",
    "- for 8, is last 3 digits divisible by 8?\n",
    "- for 9, are last 3 digits added together divisible by 9?\n",
    "- for 10, if number ends in zero, it's divisible. \n"
   ]
  },
  {
   "cell_type": "code",
   "execution_count": 2,
   "metadata": {},
   "outputs": [
    {
     "name": "stdout",
     "output_type": "stream",
     "text": [
      "Testing divisibility of 120\n",
      "\t120 is divisible by 2\n",
      "\t120 is divisible by 3\n",
      "\t120 is divisible by 4\n",
      "\t120 is divisible by 5\n",
      "\t120 is divisible by 6\n",
      "\t120 is divisible by 8\n",
      "\t120 is divisible by 10\n",
      "Testing divisibility of 126\n",
      "\t126 is divisible by 2\n",
      "\t126 is divisible by 3\n",
      "\t126 is divisible by 6\n",
      "\t126 is divisible by 7\n",
      "\t126 is divisible by 9\n",
      "Testing divisibility of 128\n",
      "\t128 is divisible by 2\n",
      "\t128 is divisible by 4\n",
      "\t128 is divisible by 8\n",
      "Testing divisibility of 140\n",
      "\t140 is divisible by 2\n",
      "\t140 is divisible by 4\n",
      "\t140 is divisible by 5\n",
      "\t140 is divisible by 7\n",
      "\t140 is divisible by 10\n",
      "Testing divisibility of 180\n",
      "\t180 is divisible by 2\n",
      "\t180 is divisible by 3\n",
      "\t180 is divisible by 4\n",
      "\t180 is divisible by 5\n",
      "\t180 is divisible by 6\n",
      "\t180 is divisible by 9\n",
      "\t180 is divisible by 10\n"
     ]
    }
   ],
   "source": [
    "# create a list of test numbers \n",
    "nums = [120, 126, 128, 140, 180]\n",
    "\n",
    "# create a loop that tests each of our sample numbers against\n",
    "# the divisibility rules. For programatic simplicity we use\n",
    "# the check of the modulo operator return is == 0. \n",
    "# The documented rules above are for human comprehension\n",
    "# the computer will always apply direct mathematic check\n",
    "# easier. \n",
    "for num in nums:\n",
    "    print(f\"Testing divisibility of {num}\")\n",
    "    for i in range(2,11):\n",
    "        if num % i == 0:\n",
    "            print(f\"\\t{num} is divisible by {i}\")\n"
   ]
  },
  {
   "cell_type": "markdown",
   "metadata": {},
   "source": [
    "## Multiples\n",
    "\n",
    "We typically will remember the times tables from school, if we want to create that programatically we can do the folowing to show the multiples of each set. For ease of comprehension we will do 5 tables of multiples up to 5."
   ]
  },
  {
   "cell_type": "code",
   "execution_count": 10,
   "metadata": {},
   "outputs": [
    {
     "name": "stdout",
     "output_type": "stream",
     "text": [
      " 1 X  1 is   1\n",
      " 1 X  2 is   2\n",
      " 1 X  3 is   3\n",
      " 1 X  4 is   4\n",
      " 1 X  5 is   5\n",
      " 2 X  1 is   2\n",
      " 2 X  2 is   4\n",
      " 2 X  3 is   6\n",
      " 2 X  4 is   8\n",
      " 2 X  5 is  10\n",
      " 3 X  1 is   3\n",
      " 3 X  2 is   6\n",
      " 3 X  3 is   9\n",
      " 3 X  4 is  12\n",
      " 3 X  5 is  15\n",
      " 4 X  1 is   4\n",
      " 4 X  2 is   8\n",
      " 4 X  3 is  12\n",
      " 4 X  4 is  16\n",
      " 4 X  5 is  20\n",
      " 5 X  1 is   5\n",
      " 5 X  2 is  10\n",
      " 5 X  3 is  15\n",
      " 5 X  4 is  20\n",
      " 5 X  5 is  25\n"
     ]
    }
   ],
   "source": [
    "# create an outer loop to control which times table we are doing\n",
    "for i in range(1,6):\n",
    "    # create the inner loop to count the multiples\n",
    "    # for that times table we are working.\n",
    "    for j in range(1,6):\n",
    "        # print the result.\n",
    "        print(f\"{i:2d} X {j:2d} is {i*j:3d}\")"
   ]
  },
  {
   "cell_type": "markdown",
   "metadata": {},
   "source": [
    "## Prime and composite\n",
    "\n",
    "A whole number can be zero, prime or composite, so all numbers greater than zero are prime or composite, they cannot be both. To be prime means you are divisible only by 1 and the actual number under test. \n",
    "\n",
    "eg. 7. $7 / 1$ and $7 / 7$ return whole numbers, no other integer between 1 and the number is divisible to a whole number return. "
   ]
  },
  {
   "cell_type": "code",
   "execution_count": 18,
   "metadata": {},
   "outputs": [
    {
     "name": "stdout",
     "output_type": "stream",
     "text": [
      "3 is prime\n",
      "5 is prime\n",
      "7 is prime\n",
      "11 is prime\n",
      "13 is prime\n",
      "17 is prime\n",
      "19 is prime\n",
      "23 is prime\n",
      "29 is prime\n",
      "31 is prime\n",
      "37 is prime\n",
      "41 is prime\n",
      "43 is prime\n",
      "47 is prime\n",
      "53 is prime\n",
      "59 is prime\n",
      "61 is prime\n",
      "67 is prime\n",
      "71 is prime\n",
      "73 is prime\n",
      "79 is prime\n",
      "83 is prime\n",
      "89 is prime\n",
      "97 is prime\n"
     ]
    }
   ],
   "source": [
    "def prime_check(num):\n",
    "    if num > 1:\n",
    "        is_prime = False\n",
    "        for i in range(2, num):\n",
    "            \n",
    "            if num % i == 0:\n",
    "                is_prime = False\n",
    "                break\n",
    "            else:\n",
    "                is_prime = True\n",
    "\n",
    "        if is_prime:\n",
    "            print(f\"{num} is prime\")\n",
    "                \n",
    "# lets find all the prime numbers between 1-100\n",
    "for i in range(1,101):\n",
    "    prime_check(i)"
   ]
  },
  {
   "cell_type": "markdown",
   "metadata": {},
   "source": [
    "## Product of primes\n",
    "\n",
    "- a product in which ever factor is a prime\n",
    "- Prime Factorization is expression of a composite number as a product of primes\n",
    "  - prime factorization can appear in any order but it is common practice to list smallest first\n",
    "  - We also group similar factors, eg 12.  $2 X 2 X 3$  would become $2^2 *3$\n"
   ]
  },
  {
   "cell_type": "code",
   "execution_count": 19,
   "metadata": {},
   "outputs": [
    {
     "data": {
      "text/plain": [
       "0"
      ]
     },
     "execution_count": 19,
     "metadata": {},
     "output_type": "execute_result"
    }
   ],
   "source": []
  },
  {
   "cell_type": "code",
   "execution_count": null,
   "metadata": {},
   "outputs": [],
   "source": []
  },
  {
   "cell_type": "code",
   "execution_count": null,
   "metadata": {},
   "outputs": [],
   "source": []
  },
  {
   "cell_type": "code",
   "execution_count": null,
   "metadata": {},
   "outputs": [],
   "source": []
  },
  {
   "cell_type": "code",
   "execution_count": null,
   "metadata": {},
   "outputs": [],
   "source": []
  },
  {
   "cell_type": "code",
   "execution_count": null,
   "metadata": {},
   "outputs": [],
   "source": []
  },
  {
   "cell_type": "code",
   "execution_count": null,
   "metadata": {},
   "outputs": [],
   "source": []
  }
 ],
 "metadata": {
  "kernelspec": {
   "display_name": "cvkit",
   "language": "python",
   "name": "cvkit"
  },
  "language_info": {
   "codemirror_mode": {
    "name": "ipython",
    "version": 3
   },
   "file_extension": ".py",
   "mimetype": "text/x-python",
   "name": "python",
   "nbconvert_exporter": "python",
   "pygments_lexer": "ipython3",
   "version": "3.6.6"
  }
 },
 "nbformat": 4,
 "nbformat_minor": 4
}
