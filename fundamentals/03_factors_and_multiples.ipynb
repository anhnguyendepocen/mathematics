{
 "cells": [
  {
   "cell_type": "markdown",
   "metadata": {},
   "source": [
    "# The Number Systems of Mathematics\n",
    "\n",
    "## Factors and Multiples\n",
    "\n",
    "- Divisibility\n",
    "- Multiples\n",
    "- Prime & composite\n",
    "- Factorization & product of primes\n",
    "- Least common multiple\n",
    "- Greatest common factor"
   ]
  },
  {
   "cell_type": "markdown",
   "metadata": {},
   "source": [
    "## Divisibility\n",
    "\n",
    "The study of numbers that can be divided by a lesser number evenly. \n",
    "\n",
    "- for 2, if a number is even, it wil be divisible by 2. \n",
    "- for 3, if the sume of the digits in the number can be divided by 3, then the number is divisible by 4. eg 126 = 9, 9 % 3 = 0.\n",
    "- for 4, if the last two digits are divisible by 4, the number is divisible by 4\n",
    "- for 5, it's easy, if number ends in zero or five it is divisible. \n",
    "- for 6, if divisible by 2 & 3, then number is divisible by 6\n",
    "- for 7, take last digit, multiple by 5 and add to the sum of other digits minus the one taken, if divisible by 7 then it works. \n",
    "- for 8, is last 3 digits divisible by 8?\n",
    "- for 9, are last 3 digits added together divisible by 9?\n",
    "- for 10, if number ends in zero, it's divisible. \n"
   ]
  },
  {
   "cell_type": "code",
   "execution_count": 2,
   "metadata": {},
   "outputs": [
    {
     "name": "stdout",
     "output_type": "stream",
     "text": [
      "Testing divisibility of 120\n",
      "\t120 is divisible by 2\n",
      "\t120 is divisible by 3\n",
      "\t120 is divisible by 4\n",
      "\t120 is divisible by 5\n",
      "\t120 is divisible by 6\n",
      "\t120 is divisible by 8\n",
      "\t120 is divisible by 10\n",
      "Testing divisibility of 126\n",
      "\t126 is divisible by 2\n",
      "\t126 is divisible by 3\n",
      "\t126 is divisible by 6\n",
      "\t126 is divisible by 7\n",
      "\t126 is divisible by 9\n",
      "Testing divisibility of 128\n",
      "\t128 is divisible by 2\n",
      "\t128 is divisible by 4\n",
      "\t128 is divisible by 8\n",
      "Testing divisibility of 140\n",
      "\t140 is divisible by 2\n",
      "\t140 is divisible by 4\n",
      "\t140 is divisible by 5\n",
      "\t140 is divisible by 7\n",
      "\t140 is divisible by 10\n",
      "Testing divisibility of 180\n",
      "\t180 is divisible by 2\n",
      "\t180 is divisible by 3\n",
      "\t180 is divisible by 4\n",
      "\t180 is divisible by 5\n",
      "\t180 is divisible by 6\n",
      "\t180 is divisible by 9\n",
      "\t180 is divisible by 10\n"
     ]
    }
   ],
   "source": [
    "# create a list of test numbers \n",
    "nums = [120, 126, 128, 140, 180]\n",
    "\n",
    "# create a loop that tests each of our sample numbers against\n",
    "# the divisibility rules. For programatic simplicity we use\n",
    "# the check of the modulo operator return is == 0. \n",
    "# The documented rules above are for human comprehension\n",
    "# the computer will always apply direct mathematic check\n",
    "# easier. \n",
    "for num in nums:\n",
    "    print(f\"Testing divisibility of {num}\")\n",
    "    for i in range(2,11):\n",
    "        if num % i == 0:\n",
    "            print(f\"\\t{num} is divisible by {i}\")\n"
   ]
  },
  {
   "cell_type": "markdown",
   "metadata": {},
   "source": [
    "## Multiples\n",
    "\n",
    "We typically will remember the times tables from school, if we want to create that programatically we can do the folowing to show the multiples of each set. For ease of comprehension we will do 5 tables of multiples up to 5."
   ]
  },
  {
   "cell_type": "code",
   "execution_count": 10,
   "metadata": {},
   "outputs": [
    {
     "name": "stdout",
     "output_type": "stream",
     "text": [
      " 1 X  1 is   1\n",
      " 1 X  2 is   2\n",
      " 1 X  3 is   3\n",
      " 1 X  4 is   4\n",
      " 1 X  5 is   5\n",
      " 2 X  1 is   2\n",
      " 2 X  2 is   4\n",
      " 2 X  3 is   6\n",
      " 2 X  4 is   8\n",
      " 2 X  5 is  10\n",
      " 3 X  1 is   3\n",
      " 3 X  2 is   6\n",
      " 3 X  3 is   9\n",
      " 3 X  4 is  12\n",
      " 3 X  5 is  15\n",
      " 4 X  1 is   4\n",
      " 4 X  2 is   8\n",
      " 4 X  3 is  12\n",
      " 4 X  4 is  16\n",
      " 4 X  5 is  20\n",
      " 5 X  1 is   5\n",
      " 5 X  2 is  10\n",
      " 5 X  3 is  15\n",
      " 5 X  4 is  20\n",
      " 5 X  5 is  25\n"
     ]
    }
   ],
   "source": [
    "# create an outer loop to control which times table we are doing\n",
    "for i in range(1,6):\n",
    "    # create the inner loop to count the multiples\n",
    "    # for that times table we are working.\n",
    "    for j in range(1,6):\n",
    "        # print the result.\n",
    "        print(f\"{i:2d} X {j:2d} is {i*j:3d}\")"
   ]
  },
  {
   "cell_type": "markdown",
   "metadata": {},
   "source": [
    "## Prime and composite\n",
    "\n",
    "A whole number can be zero, prime or composite, so all numbers greater than zero are prime or composite, they cannot be both. To be prime means you are divisible only by 1 and the actual number under test. \n",
    "\n",
    "eg. 7. $7 / 1$ and $7 / 7$ return whole numbers, no other integer between 1 and the number is divisible to a whole number return. "
   ]
  },
  {
   "cell_type": "code",
   "execution_count": 27,
   "metadata": {},
   "outputs": [
    {
     "name": "stdout",
     "output_type": "stream",
     "text": [
      "3 is prime\n",
      "5 is prime\n",
      "7 is prime\n",
      "11 is prime\n",
      "13 is prime\n",
      "17 is prime\n",
      "19 is prime\n",
      "23 is prime\n",
      "29 is prime\n",
      "31 is prime\n",
      "37 is prime\n",
      "41 is prime\n",
      "43 is prime\n",
      "47 is prime\n",
      "53 is prime\n",
      "59 is prime\n",
      "61 is prime\n",
      "67 is prime\n",
      "71 is prime\n",
      "73 is prime\n",
      "79 is prime\n",
      "83 is prime\n",
      "89 is prime\n",
      "97 is prime\n"
     ]
    }
   ],
   "source": [
    "def prime_check(num):\n",
    "    if num > 1:\n",
    "        is_prime = False\n",
    "        for i in range(2, num):\n",
    "            \n",
    "            if num % i == 0:\n",
    "                is_prime = False\n",
    "                break\n",
    "            else:\n",
    "                is_prime = True\n",
    "\n",
    "        if is_prime:\n",
    "            print(f\"{num} is prime\")\n",
    "                \n",
    "# lets find all the prime numbers between 1-100\n",
    "for i in range(1,101):\n",
    "    prime_check(i)"
   ]
  },
  {
   "cell_type": "markdown",
   "metadata": {},
   "source": [
    "## Product of primes\n",
    "\n",
    "- A product in which every factor is a prime number.\n",
    "- Prime Factorization is expression of a composite number as a product of primes\n",
    "  - prime factorization can appear in any order but it is common practice to **list smallest first**\n",
    "  - We also group similar factors, eg 12.  $2 \\cdot 2 \\cdot 3$  would become $2^2 \\cdot 3$\n",
    "\n",
    "\n",
    "Examples: \n",
    "- 102: $(102 / 2)$ = 51. THEN $(51 / 3)$ = 17. The product of primes is: $(2 \\cdot 3 \\cdot 17)$\n",
    "- 84: $(84 / 2)$ = 42 THEN $(42 / 2)$ = 21 THEN $(21 / 3)$ = 7. The product of primes is: $(2 \\cdot 2 \\cdot 3 \\cdot 7)$ or $(2^2 \\cdot 3 \\cdot 7)$\n",
    "- 24: $(24 / 2)$ = 12 THEN $(12 / 2)$ = 6 THEN $(6 / 2)$ = 3. The product of primes is: $(2 \\cdot 2 \\cdot 2 \\cdot 3)$ or $(2^3 \\cdot 3)$\n",
    "- 15: $(15 / 3)$ = 5. The product of primes is $(3 \\cdot 5)$"
   ]
  },
  {
   "cell_type": "code",
   "execution_count": 28,
   "metadata": {},
   "outputs": [
    {
     "name": "stdout",
     "output_type": "stream",
     "text": [
      "2 * 3 * 17 = 102\n",
      "2 * 2 * 3 * 7 = 84\n",
      "2 * 2 * 2 * 3 = 24\n",
      "3 * 5 = 15\n"
     ]
    }
   ],
   "source": [
    "print(f\"2 * 3 * 17 = {2*3*17}\")\n",
    "print(f\"2 * 2 * 3 * 7 = {2*2*3*7}\")\n",
    "print(f\"2 * 2 * 2 * 3 = {2*2*2*3}\")\n",
    "print(f\"3 * 5 = {3*5}\")"
   ]
  },
  {
   "cell_type": "markdown",
   "metadata": {},
   "source": [
    "Examples pt2:\n",
    "\n",
    "- 80: $(80 / 2)$ = 40 THEN $(40 / 2)$ = 20 THEN $(20 / 2)$ = 10 THEN $(10 / 2)$ = 5. Product of primes is $(2 \\cdot 2 \\cdot 2 \\cdot 2 \\cdot 5)$ or $(2^4 \\cdot 5)$ \n",
    "- 147: $(147 / 3)$ = 49 THEN $(49 / 7)$ = 7. Product of primes is $(3 \\cdot 7 \\cdot 7)$ or $3 \\cdot 7^2)$"
   ]
  },
  {
   "cell_type": "code",
   "execution_count": 29,
   "metadata": {},
   "outputs": [
    {
     "name": "stdout",
     "output_type": "stream",
     "text": [
      "2 * 2 * 2 * 2 * 5 = 80\n",
      "3 * 7 * 7 = 147\n"
     ]
    }
   ],
   "source": [
    "print(f\"2 * 2 * 2 * 2 * 5 = {2 * 2 * 2 * 2 * 5}\")\n",
    "print(f\"3 * 7 * 7 = {3*7*7}\")"
   ]
  },
  {
   "cell_type": "markdown",
   "metadata": {},
   "source": [
    "## Product of Primes in Python "
   ]
  },
  {
   "cell_type": "code",
   "execution_count": 107,
   "metadata": {},
   "outputs": [],
   "source": [
    "def product_of_primes(num):\n",
    "    \n",
    "    # produce a list comprehension of all prime numbers between 2-500\n",
    "    primes = [x for x in range(2, 500) if all(x % y != 0 for y in range(2, x))]\n",
    "    \n",
    "    # create a list for our products \n",
    "    pr = []\n",
    "    working_num = num\n",
    "    \n",
    "    # run the list \n",
    "    for prime in primes:\n",
    "        if working_num % prime == 0:\n",
    "            while working_num % prime == 0:\n",
    "                working_num /= prime\n",
    "                # factor identified, add to the list \n",
    "                pr.append(prime)\n",
    "                \n",
    "    # print the completed list\n",
    "    return pr"
   ]
  },
  {
   "cell_type": "markdown",
   "metadata": {},
   "source": [
    "## Least common multiples \n",
    "\n",
    "The easy possibility: The lowest value common multiple that both numbers as operands fit into, for example, 10 & 15. The least (lowest) common mulriple is 30, or $(10 \\cdot 3)$ and $(15 \\cdot 2)$\n",
    "\n",
    "The more complex possibility has multiple numbers, in this case it will be difficult to write out all the multiples and begin to cross reference for a lowest common multiple therefore we can factor each number into their prime factors. \n",
    "\n",
    "Example: 24, 10, 15.\n",
    "- 24: $(2 \\cdot 2 \\cdot 2 \\cdot 3)$  $(2^3 \\cdot 3)$\n",
    "- 10: $(2 \\cdot 5)$\n",
    "- 15: $(3 \\cdot 5)$\n",
    "\n",
    "This allows us to idntify the factors we have: 2, 3 & 5. The largest factor of 2 is $2^3$, the largest of 3 is 3, largest of 5 is 5, therefore we have $2^3 \\cdot 3 \\cdot 5$ or $8 \\cdot 15$ = 120. The least (lowest) common multiple of 24, 10 and 15 is 120.  "
   ]
  },
  {
   "cell_type": "code",
   "execution_count": 108,
   "metadata": {},
   "outputs": [
    {
     "name": "stdout",
     "output_type": "stream",
     "text": [
      " 5 * 24 = 120\n",
      "12 * 10 = 120\n",
      " 8 * 15 = 120\n"
     ]
    }
   ],
   "source": [
    "# lets validate in python code \n",
    "\n",
    "\n",
    "# create a list of our prime factorizations \n",
    "nums = [2*2*2*3, 2*5, 3*5]\n",
    "\n",
    "for num in nums: \n",
    "    # create a loop range of the maximyn number in our nums list\n",
    "    for i in range(1,max(nums)):\n",
    "        if i * num == 120:\n",
    "            print(f\"{i:2d} * {num} = {i * num}\")\n",
    "        \n",
    "    "
   ]
  },
  {
   "cell_type": "code",
   "execution_count": 110,
   "metadata": {},
   "outputs": [
    {
     "data": {
      "text/plain": [
       "([2, 3, 5], [3, 5, 5], [2, 2, 2, 2, 5])"
      ]
     },
     "execution_count": 110,
     "metadata": {},
     "output_type": "execute_result"
    }
   ],
   "source": [
    "# example 2 - 30, 75, 80\n",
    "product_of_primes(30), product_of_primes(75), product_of_primes(80)"
   ]
  },
  {
   "cell_type": "code",
   "execution_count": 112,
   "metadata": {},
   "outputs": [
    {
     "data": {
      "text/plain": [
       "1200"
      ]
     },
     "execution_count": 112,
     "metadata": {},
     "output_type": "execute_result"
    }
   ],
   "source": [
    "2 * 2 * 2 * 2 * 3 * 5 * 5"
   ]
  },
  {
   "cell_type": "markdown",
   "metadata": {},
   "source": [
    "For variables such as $15a^2b$ and $10ab^3$ we must also reduce to the prime factorizations, therefore we get $3 \\cdot 5 \\cdot a^2 \\cdot b$ and $2 \\cdot 5 \\cdot a \\cdot b^3$ respctively.\n",
    "\n",
    "To work the example we must take the: $2 \\cdot 3 \\cdot 5 \\cdot a^2 \\cdot b^3$ or $30a^2b^3$\n",
    "\n"
   ]
  },
  {
   "cell_type": "markdown",
   "metadata": {},
   "source": [
    "## Greatest Common Factor\n",
    "\n",
    "A common factor is a number that divides into two or more positive whoe numbers. Often abbreiviated to the _GCF_ it can often be called the greatest common divisor also. \n",
    "\n",
    "It can also be called the GCF of monomials, a monomial is a single number therefore monomials are multiple single numbers. To calculate the GCF we can break the numbers down to thwir prime factors and work forwards from there. \n",
    "\n",
    "#### Example 1: \n",
    "- 5, 10, 20: breaking down to prime factors becomes $5$, $5 \\cdot 2$ and $5 \\cdot 2 \\cdot 2$ therefore our common factor and indeed greatest factor is 5.\n",
    "\n",
    "#### Example 2:\n",
    "- $6a$, $6a^2$, $12a^3$: breaking down the prime factors starts with the constant coefficients (6, 6, 12) and then look at the variable a.\n",
    "    - Breaking down 6, factors are 3, 2\n",
    "    - Breaking down 12, factors are 3, 2, 2\n",
    "    - variables:\n",
    "        - a, aa, aaa\n",
    "    - Results are: \n",
    "        - $6a$ = $3 \\cdot 2 \\cdot a$\n",
    "        - $6a^2$ = $3 \\cdot 2 \\cdot a \\cdot a$\n",
    "        - $12a^3$ = $3 \\cdot 2 \\cdot 2 \\cdot a \\cdot a \\cdot a$\n",
    "    - conclusion:\n",
    "        - $3 \\cdot 2 \\cdot a$ = $6a$ as greatest common factor\n",
    "\n",
    "\n",
    "#### Example 3:\n",
    "- $4x^2y$, $2xy$, $10xy^2$: Breaking down the coefficients for prime factoring:\n",
    "    - $2, 2, x, x, y$\n",
    "    - $2, x, y$\n",
    "    - $5, 2, x, y, y$\n",
    "    - Results:\n",
    "        - $2xy$"
   ]
  },
  {
   "cell_type": "code",
   "execution_count": 84,
   "metadata": {},
   "outputs": [],
   "source": [
    "# To answer this in python we can create a function that \n",
    "# creates a list of all matching divisors for a group of\n",
    "# monomials \n",
    "\n",
    "def greatest_common_factor(*args):\n",
    "    monomials = [arg for arg in args]\n",
    "    divisors = []\n",
    "    t_minus = max(monomials)\n",
    "    lower_bound = 1\n",
    "    \n",
    "    while t_minus >= lower_bound:\n",
    "        is_divisor = True\n",
    "        for mono in monomials:\n",
    "            if mono % t_minus != 0:\n",
    "                is_divisor = False\n",
    "                \n",
    "        if is_divisor:\n",
    "            divisors.append(t_minus)\n",
    "       \n",
    "        t_minus -= 1\n",
    "    return divisors[0]"
   ]
  },
  {
   "cell_type": "code",
   "execution_count": 85,
   "metadata": {},
   "outputs": [
    {
     "data": {
      "text/plain": [
       "15"
      ]
     },
     "execution_count": 85,
     "metadata": {},
     "output_type": "execute_result"
    }
   ],
   "source": [
    "greatest_common_factor(15, 30, 45)"
   ]
  },
  {
   "cell_type": "code",
   "execution_count": 86,
   "metadata": {},
   "outputs": [
    {
     "data": {
      "text/plain": [
       "4"
      ]
     },
     "execution_count": 86,
     "metadata": {},
     "output_type": "execute_result"
    }
   ],
   "source": [
    "greatest_common_factor(8, 12, 16)"
   ]
  },
  {
   "cell_type": "code",
   "execution_count": 87,
   "metadata": {},
   "outputs": [
    {
     "data": {
      "text/plain": [
       "17"
      ]
     },
     "execution_count": 87,
     "metadata": {},
     "output_type": "execute_result"
    }
   ],
   "source": [
    "greatest_common_factor(51, 510, 1037)"
   ]
  },
  {
   "cell_type": "code",
   "execution_count": 88,
   "metadata": {},
   "outputs": [
    {
     "data": {
      "text/plain": [
       "2"
      ]
     },
     "execution_count": 88,
     "metadata": {},
     "output_type": "execute_result"
    }
   ],
   "source": [
    "greatest_common_factor(54, 100)"
   ]
  },
  {
   "cell_type": "code",
   "execution_count": 89,
   "metadata": {},
   "outputs": [
    {
     "data": {
      "text/plain": [
       "24"
      ]
     },
     "execution_count": 89,
     "metadata": {},
     "output_type": "execute_result"
    }
   ],
   "source": [
    "greatest_common_factor(120, 288)"
   ]
  },
  {
   "cell_type": "code",
   "execution_count": 90,
   "metadata": {},
   "outputs": [
    {
     "data": {
      "text/plain": [
       "16"
      ]
     },
     "execution_count": 90,
     "metadata": {},
     "output_type": "execute_result"
    }
   ],
   "source": [
    "greatest_common_factor(48, 128)"
   ]
  },
  {
   "cell_type": "code",
   "execution_count": null,
   "metadata": {},
   "outputs": [],
   "source": []
  },
  {
   "cell_type": "code",
   "execution_count": null,
   "metadata": {},
   "outputs": [],
   "source": []
  }
 ],
 "metadata": {
  "kernelspec": {
   "display_name": "cvkit",
   "language": "python",
   "name": "cvkit"
  },
  "language_info": {
   "codemirror_mode": {
    "name": "ipython",
    "version": 3
   },
   "file_extension": ".py",
   "mimetype": "text/x-python",
   "name": "python",
   "nbconvert_exporter": "python",
   "pygments_lexer": "ipython3",
   "version": "3.6.6"
  }
 },
 "nbformat": 4,
 "nbformat_minor": 4
}
