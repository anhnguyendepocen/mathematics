{
 "cells": [
  {
   "cell_type": "markdown",
   "metadata": {},
   "source": [
    "# The Number Systems of Mathematics\n",
    "\n",
    "## Ratio & Proportion\n",
    "\n",
    "- 7.01 Ratio & Proportion\n",
    "- 7.02 Unit Price\n",
    "- 7.03 Unit multipliers\n"
   ]
  },
  {
   "cell_type": "markdown",
   "metadata": {},
   "source": [
    "## 7.01 Ratio & Proportion"
   ]
  },
  {
   "cell_type": "markdown",
   "metadata": {},
   "source": [
    "Ratio & proportion is an application of fractions. Ratios are basically just fractions themselves with an emphasis on the relationship of the numerator to the denominator or the relationship between one thing and another thing. In fraction terms we can refer to $\\frac{2}{3}$, as a ratio we would say _two to three_ or write it as $2 : 3$.\n",
    "\n",
    "A proportion is an equation of two ratios such as: $\\frac{1}{2} = \\frac{5}{10} or \\frac{16}{32}$ they depict the same ratio and relationship. We can therefore say that $3 : 4 :: 75 : 100$, or three to four is the same as seventy-five to one-hundred."
   ]
  },
  {
   "cell_type": "markdown",
   "metadata": {},
   "source": [
    "#### Example 1\n",
    "\n",
    "$\\frac{20}{36} = \\frac{4}{x}$\n",
    "\n",
    "We can start with reduction. That means we can reduce $\\frac{20}{36} to \\frac{5}{9}$ \n",
    "\n",
    "Method: \n",
    "- we can apply cross multiplication here. \n",
    "    - $\\frac{5}{9}$ to $\\frac{4}{x}$ gives $5x = ?$ and $4 \\cdot 9 = 36$\n",
    "    - Therefore, $5x = 36$\n",
    "    - we can progress by dividing by 5 therefore we now have $\\frac{5x}{5} and \\frac{36}{5}$\n",
    "- $x = \\frac{36}{5}$ or $7 \\frac{1}{5}$"
   ]
  },
  {
   "cell_type": "markdown",
   "metadata": {},
   "source": [
    "#### Example 2 \n",
    "$\\frac{2}{4} = \\frac{x}{20}$\n",
    "\n",
    "Start by reduction: $\\frac{1}{2} = \\frac{x}{20}$\n",
    "\n",
    "This is a simpler example and therefore we can jump directly to a conclusion:\n",
    "- The denominator is a factor of 10, therefore the numerator cab be too. This means we have $x = 10$"
   ]
  },
  {
   "cell_type": "markdown",
   "metadata": {},
   "source": [
    "#### Example 3\n",
    "$\\frac{4}{m} = \\frac{21}{5}$\n",
    "\n",
    "There is no reduction possibility. We therefore move to cross multiplication.\n",
    "- $4 \\cdot 5 = 20$ and $m \\cdot 21 = 21m$\n",
    "- This becomes $\\frac{20}{21} = \\frac{21m}{21}$ The 21's can be canceled.\n",
    "- $m = \\frac{20}{21}$"
   ]
  },
  {
   "cell_type": "markdown",
   "metadata": {},
   "source": [
    "#### Example 4\n",
    "$\\frac{4}{9} = \\frac{d}{108}$\n",
    "\n",
    "cross multiply:\n",
    "- $4 \\cdot 108 = 432$ and $9 \\cdot d = 9d$\n",
    "- $432 \\div 9 = 48$\n",
    "- $d = 48$"
   ]
  },
  {
   "cell_type": "code",
   "execution_count": 4,
   "metadata": {},
   "outputs": [
    {
     "data": {
      "text/plain": [
       "48.0"
      ]
     },
     "execution_count": 4,
     "metadata": {},
     "output_type": "execute_result"
    }
   ],
   "source": [
    "432 / 9"
   ]
  },
  {
   "cell_type": "markdown",
   "metadata": {},
   "source": [
    "## 7.02 Unit Price\n",
    "\n",
    "Price divided by a measurement that is referred to as a unit, this could be weights or instances. "
   ]
  },
  {
   "cell_type": "code",
   "execution_count": null,
   "metadata": {},
   "outputs": [],
   "source": []
  }
 ],
 "metadata": {
  "kernelspec": {
   "display_name": "cvkit",
   "language": "python",
   "name": "cvkit"
  },
  "language_info": {
   "codemirror_mode": {
    "name": "ipython",
    "version": 3
   },
   "file_extension": ".py",
   "mimetype": "text/x-python",
   "name": "python",
   "nbconvert_exporter": "python",
   "pygments_lexer": "ipython3",
   "version": "3.6.6"
  }
 },
 "nbformat": 4,
 "nbformat_minor": 4
}
