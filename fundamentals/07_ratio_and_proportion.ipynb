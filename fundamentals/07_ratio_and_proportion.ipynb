{
 "cells": [
  {
   "cell_type": "markdown",
   "metadata": {},
   "source": [
    "# Mathematics\n",
    "\n",
    "# The Fundamentals Series\n",
    "\n",
    "## Section Seven : Ratio & Proportion\n",
    "\n",
    "- 7.01 Ratio & Proportion\n",
    "- 7.02 Unit Price\n",
    "- 7.03 Unit multipliers\n"
   ]
  },
  {
   "cell_type": "markdown",
   "metadata": {},
   "source": [
    "## 7.01 Ratio & Proportion"
   ]
  },
  {
   "cell_type": "markdown",
   "metadata": {},
   "source": [
    "Ratio & proportion is an application of fractions. Ratios are basically just fractions themselves with an emphasis on the relationship of the numerator to the denominator or the relationship between one thing and another thing. In fraction terms we can refer to $\\frac{2}{3}$, as a ratio we would say _two to three_ or write it as $2 : 3$.\n",
    "\n",
    "A proportion is an equation of two ratios such as: $\\frac{1}{2} = \\frac{5}{10} or \\frac{16}{32}$ they depict the same ratio and relationship. We can therefore say that $3 : 4 :: 75 : 100$, or three to four is the same as seventy-five to one-hundred."
   ]
  },
  {
   "cell_type": "markdown",
   "metadata": {},
   "source": [
    "#### Example 1\n",
    "\n",
    "$\\frac{20}{36} = \\frac{4}{x}$\n",
    "\n",
    "We can start with reduction. That means we can reduce $\\frac{20}{36} to \\frac{5}{9}$ \n",
    "\n",
    "Method: \n",
    "- we can apply cross multiplication here. \n",
    "    - $\\frac{5}{9}$ to $\\frac{4}{x}$ gives $5x = ?$ and $4 \\cdot 9 = 36$\n",
    "    - Therefore, $5x = 36$\n",
    "    - we can progress by dividing by 5 therefore we now have $\\frac{5x}{5} and \\frac{36}{5}$\n",
    "- $x = \\frac{36}{5}$ or $7 \\frac{1}{5}$"
   ]
  },
  {
   "cell_type": "markdown",
   "metadata": {},
   "source": [
    "#### Example 2 \n",
    "$\\frac{2}{4} = \\frac{x}{20}$\n",
    "\n",
    "Start by reduction: $\\frac{1}{2} = \\frac{x}{20}$\n",
    "\n",
    "This is a simpler example and therefore we can jump directly to a conclusion:\n",
    "- The denominator is a factor of 10, therefore the numerator cab be too. This means we have $x = 10$"
   ]
  },
  {
   "cell_type": "markdown",
   "metadata": {},
   "source": [
    "#### Example 3\n",
    "$\\frac{4}{m} = \\frac{21}{5}$\n",
    "\n",
    "There is no reduction possibility. We therefore move to cross multiplication.\n",
    "- $4 \\cdot 5 = 20$ and $m \\cdot 21 = 21m$\n",
    "- This becomes $\\frac{20}{21} = \\frac{21m}{21}$ The 21's can be canceled.\n",
    "- $m = \\frac{20}{21}$"
   ]
  },
  {
   "cell_type": "markdown",
   "metadata": {},
   "source": [
    "#### Example 4\n",
    "$\\frac{4}{9} = \\frac{d}{108}$\n",
    "\n",
    "cross multiply:\n",
    "- $4 \\cdot 108 = 432$ and $9 \\cdot d = 9d$\n",
    "- $432 \\div 9 = 48$\n",
    "- $d = 48$"
   ]
  },
  {
   "cell_type": "code",
   "execution_count": 4,
   "metadata": {},
   "outputs": [
    {
     "data": {
      "text/plain": [
       "48.0"
      ]
     },
     "execution_count": 4,
     "metadata": {},
     "output_type": "execute_result"
    }
   ],
   "source": [
    "432 / 9"
   ]
  },
  {
   "cell_type": "markdown",
   "metadata": {},
   "source": [
    "## 7.02 Unit Price\n",
    "\n",
    "Price divided by a measurement that is referred to as a unit, this could be weights or instances in a typical problem setting. Essentially it's the logic of comparison and finding a common unit value between different settings. "
   ]
  },
  {
   "cell_type": "markdown",
   "metadata": {},
   "source": [
    "#### Example 1\n",
    "\n",
    "Q: Which is better value, 24oz for \\\\$3.60 or 88oz for \\\\$14\n",
    "\n",
    "##### Method one:\n",
    "- $\\frac{3.60}{24} = 0.15$\n",
    "- $0.15 \\cdot 88 = 13.20$\n",
    "\n",
    "solution: \n",
    "- 24oz for $3.60 is a better deal\n",
    "\n",
    "\n",
    "##### Method two: \n",
    "- $\\frac{24}{3.60} = \\frac{88}{x}$\n",
    "\n",
    "Cross multiply: \n",
    "- $ 24 \\cdot x = 3.60 \\cdot 88$\n",
    "\n",
    "- $\\frac{24x}{24} = \\frac{316.80}{24}$\n",
    "\n",
    "- $x = \\frac{316.80}{24}$\n",
    "\n",
    "Solution: \n",
    "$x = 13.20$\n"
   ]
  },
  {
   "cell_type": "markdown",
   "metadata": {},
   "source": [
    "#### Example 2\n",
    "\n",
    "Q: if \\\\$5 buys 20 apples, how many apples can you buy for \\\\$80\n",
    "    \n",
    "    \n",
    "##### Method One: \n",
    "- $20 \\div 5 = 4$ Therefore we can buy 4 apples per dollar, or \\\\$0.25c each. \n",
    "\n",
    "- $80 \\cdot 4 = 320$\n",
    "\n",
    "**Solution**: \n",
    "- 320 apples for \\\\$80\n",
    "\n",
    "##### Method Two: \n",
    "- $\\frac{\\\\$5}{20a} = \\frac{\\\\$80}{xa}$\n",
    "\n",
    "- $\\frac{\\\\$5(xa)}{\\\\$5} = \\frac{\\\\$80(20a}{\\\\$5}$\n",
    "\n",
    "- $x = 16 \\cdot 20$\n",
    "\n",
    "**Solution**: \n",
    "- $x = 320$"
   ]
  },
  {
   "cell_type": "code",
   "execution_count": 8,
   "metadata": {},
   "outputs": [
    {
     "data": {
      "text/plain": [
       "13.2"
      ]
     },
     "execution_count": 8,
     "metadata": {},
     "output_type": "execute_result"
    }
   ],
   "source": []
  },
  {
   "cell_type": "markdown",
   "metadata": {},
   "source": [
    "## Unit Multipliers \n",
    "\n",
    "Unit multipliers are what we use to convert one set of units to another. "
   ]
  },
  {
   "cell_type": "markdown",
   "metadata": {},
   "source": [
    "#### Example 1\n",
    "\n",
    "Q: how many yards are in 360 inches. \n",
    "\n",
    "known elements: \n",
    "- 12 inches per foot\n",
    "- 3 feet per yard\n",
    "\n",
    "##### Method one:\n",
    "- $360 \\div 12 = 30$\n",
    "\n",
    "**Solution**:\n",
    "- 30 feet at 3 feet per yard\n",
    "- 10 yards"
   ]
  },
  {
   "cell_type": "markdown",
   "metadata": {},
   "source": [
    "#### Example 2\n",
    "\n",
    "Q: How many centimeters in 1.4km\n",
    "\n",
    "known elements: \n",
    "- 100cm per metre\n",
    "- 1000m per kilometer\n",
    "\n",
    "Solution: \n",
    "- $1400 \\cdot 100 = 140,000$  "
   ]
  },
  {
   "cell_type": "markdown",
   "metadata": {},
   "source": [
    "#### Example 3\n",
    "\n",
    "Q: How many feet in 600 inches\n",
    "\n",
    "Solution: \n",
    "- $600 \\div 12 = 50$\n",
    "- 50 feet"
   ]
  },
  {
   "cell_type": "markdown",
   "metadata": {},
   "source": [
    "#### Example 4\n",
    "\n",
    "Q: How many square inches are in 42yards$^2$\n",
    "\n",
    "$42 \\cdot 3 \\cdot 3 \\cdot 12 \\cdot 12 = 54432$\n",
    "\n",
    "$42 \\cdot 9 \\cdot 144 = 54432$\n",
    "\n",
    "Solution:\n",
    "- 54432 square inches"
   ]
  },
  {
   "cell_type": "code",
   "execution_count": 15,
   "metadata": {},
   "outputs": [
    {
     "data": {
      "text/plain": [
       "54432"
      ]
     },
     "execution_count": 15,
     "metadata": {},
     "output_type": "execute_result"
    }
   ],
   "source": [
    "42 * 3 * 3 * 12 * 12"
   ]
  },
  {
   "cell_type": "code",
   "execution_count": 11,
   "metadata": {},
   "outputs": [
    {
     "data": {
      "text/plain": [
       "50.0"
      ]
     },
     "execution_count": 11,
     "metadata": {},
     "output_type": "execute_result"
    }
   ],
   "source": [
    "600 / 12"
   ]
  },
  {
   "cell_type": "code",
   "execution_count": null,
   "metadata": {},
   "outputs": [],
   "source": []
  }
 ],
 "metadata": {
  "kernelspec": {
   "display_name": "cvkit",
   "language": "python",
   "name": "cvkit"
  },
  "language_info": {
   "codemirror_mode": {
    "name": "ipython",
    "version": 3
   },
   "file_extension": ".py",
   "mimetype": "text/x-python",
   "name": "python",
   "nbconvert_exporter": "python",
   "pygments_lexer": "ipython3",
   "version": "3.6.6"
  }
 },
 "nbformat": 4,
 "nbformat_minor": 4
}