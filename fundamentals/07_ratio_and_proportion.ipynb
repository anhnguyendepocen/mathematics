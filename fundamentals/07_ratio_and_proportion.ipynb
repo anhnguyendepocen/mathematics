{
 "cells": [
  {
   "cell_type": "code",
   "execution_count": null,
   "metadata": {},
   "outputs": [],
   "source": [
    "# The Number Systems of Mathematics\n",
    "\n",
    "## Ratio & Proportion\n",
    "\n",
    "- Ration and Proportion\n",
    "- Unit Price\n",
    "- Unit multipliers\n"
   ]
  }
 ],
 "metadata": {
  "kernelspec": {
   "display_name": "cvkit",
   "language": "python",
   "name": "cvkit"
  },
  "language_info": {
   "codemirror_mode": {
    "name": "ipython",
    "version": 3
   },
   "file_extension": ".py",
   "mimetype": "text/x-python",
   "name": "python",
   "nbconvert_exporter": "python",
   "pygments_lexer": "ipython3",
   "version": "3.6.6"
  }
 },
 "nbformat": 4,
 "nbformat_minor": 4
}
