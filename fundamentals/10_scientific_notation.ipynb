{
 "cells": [
  {
   "cell_type": "markdown",
   "metadata": {},
   "source": [
    "# Mathematics\n",
    "\n",
    "# The Fundamentals Series\n",
    "\n",
    "## Section Ten : Scientific Notation\n",
    "\n",
    "- 10.01 Powers of 10\n",
    "- 10.02 Scientific notation\n",
    "- 10.03 Multiplying scientific notation\n",
    "- 10.04 Dividing scientific notation\n",
    "- 10.05 Estimating with scientific notation"
   ]
  },
  {
   "cell_type": "markdown",
   "metadata": {},
   "source": [
    "## 10.01 The Powers of 10"
   ]
  },
  {
   "cell_type": "markdown",
   "metadata": {},
   "source": [
    "The decimal place movement moves right by one place (or add a zero) as the power increases by a single increment. \n",
    "\n",
    "$10^1 = 10$\n",
    "\n",
    "$10^2 = 100$\n",
    "\n",
    "$10^3 = 1000$\n",
    "\n",
    "..and so on! \n",
    "\n",
    "42 * $10^1$ = 420\n",
    "\n",
    "625 * $10^3$ = 625,000"
   ]
  },
  {
   "cell_type": "code",
   "execution_count": null,
   "metadata": {},
   "outputs": [],
   "source": []
  }
 ],
 "metadata": {
  "kernelspec": {
   "display_name": "cvkit",
   "language": "python",
   "name": "cvkit"
  },
  "language_info": {
   "codemirror_mode": {
    "name": "ipython",
    "version": 3
   },
   "file_extension": ".py",
   "mimetype": "text/x-python",
   "name": "python",
   "nbconvert_exporter": "python",
   "pygments_lexer": "ipython3",
   "version": "3.6.6"
  }
 },
 "nbformat": 4,
 "nbformat_minor": 4
}
