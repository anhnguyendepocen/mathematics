{
 "cells": [
  {
   "cell_type": "markdown",
   "metadata": {},
   "source": [
    "# The Number systems of Mathematics\n",
    "\n",
    "Welcome to mathematics. We're going to learn both math and python. The following series will cover a lot of math theory and practicals. For practicals we will use the `python` programming language. "
   ]
  },
  {
   "cell_type": "code",
   "execution_count": 43,
   "metadata": {},
   "outputs": [],
   "source": [
    "# import the python math module for operations that \n",
    "# extend past simple arithmatic. \n",
    "import math"
   ]
  },
  {
   "cell_type": "markdown",
   "metadata": {},
   "source": [
    "## Number systems terminology\n",
    "\n",
    "- Natural numbers: so called natural numbers because we tend to count from 1 upward. \n",
    "- Whole numbers: a number set that is zero indexed, so [0,1,2,3,4,5...] and so on. This includes all `natural numbers`. \n",
    "- Integers: zero, positive or negative numbers that have no fractional part. \n",
    "- Rational numbers: All natural, whole and integer sets with the adition of fractional inclusion. \n",
    "- Real numbers: All sets together are recognised as the 'real number system'.\n",
    "\n",
    "Real numbers also includes irrational number sets. \n",
    "- Irrational numbers are values that cannot be written as fractions. eg, square root of 2, pi.\n",
    "\n",
    "## Signage \n",
    "- R: Real numbers systems are often depicted with the 'R' symbol.\n",
    "- Q: Rational numbers\n",
    "- Z: Integers\n",
    "- W: Whole numbers\n",
    "- N: Natural numbers\n",
    "- R-Q: Irrational numbers. "
   ]
  },
  {
   "cell_type": "markdown",
   "metadata": {},
   "source": [
    "## Identity numbers \n",
    "\n",
    "Identity numbers are numbers that do not mess with the identity (value) of the operand. We can therefore look at identity numbers for common operations such as addition and multiplication. \n",
    "\n",
    "- Addition is zero\n",
    "- Multiplication is one. "
   ]
  },
  {
   "cell_type": "code",
   "execution_count": 4,
   "metadata": {},
   "outputs": [
    {
     "data": {
      "text/plain": [
       "17"
      ]
     },
     "execution_count": 4,
     "metadata": {},
     "output_type": "execute_result"
    }
   ],
   "source": [
    "# demo the addition identity number\n",
    "17 + 0"
   ]
  },
  {
   "cell_type": "code",
   "execution_count": 5,
   "metadata": {},
   "outputs": [
    {
     "data": {
      "text/plain": [
       "300"
      ]
     },
     "execution_count": 5,
     "metadata": {},
     "output_type": "execute_result"
    }
   ],
   "source": [
    "# demo the multiplication identity number\n",
    "300 * 1"
   ]
  },
  {
   "cell_type": "markdown",
   "metadata": {},
   "source": [
    "## Opposite numbers\n",
    "\n",
    "If a line of numerical whole numbers was drawn and zero is the centre, it can be easily seen that the opposite of a number is its negative counterpart. Let's look at a zero centered list to see the opposite distance between positive and negative number samples.\n",
    "\n",
    "***Point to remember** To achieve the opposite of a number we multiply it by -1 "
   ]
  },
  {
   "cell_type": "code",
   "execution_count": 6,
   "metadata": {},
   "outputs": [
    {
     "data": {
      "text/plain": [
       "[-5, -4, -3, -2, -1, 0, 1, 2, 3, 4, 5]"
      ]
     },
     "execution_count": 6,
     "metadata": {},
     "output_type": "execute_result"
    }
   ],
   "source": [
    "# create a python list \n",
    "opposites_demo = []\n",
    "\n",
    "# create a for loop to add numbers between -5 and 6 to our list, \n",
    "# we say 6 because a range takes a start and stop parameter. \n",
    "# While the start param (-5) is inclusive, the stop param\n",
    "# (6) is not, therefore to reach the desired number we add \n",
    "# one to the limit we want to stop at\n",
    "for x in range(-5, 6):\n",
    "    opposites_demo.append(x)\n",
    "\n",
    "opposites_demo"
   ]
  },
  {
   "cell_type": "markdown",
   "metadata": {},
   "source": [
    "Let's see the multiplier in action to achieve the opposite of a number "
   ]
  },
  {
   "cell_type": "code",
   "execution_count": 8,
   "metadata": {},
   "outputs": [
    {
     "data": {
      "text/plain": [
       "-10"
      ]
     },
     "execution_count": 8,
     "metadata": {},
     "output_type": "execute_result"
    }
   ],
   "source": [
    "# assign a value, reassign as the result of our multiplication and view the new result\n",
    "x = 10\n",
    "x = x * -1\n",
    "x"
   ]
  },
  {
   "cell_type": "code",
   "execution_count": 10,
   "metadata": {},
   "outputs": [
    {
     "data": {
      "text/plain": [
       "20"
      ]
     },
     "execution_count": 10,
     "metadata": {},
     "output_type": "execute_result"
    }
   ],
   "source": [
    "# assign a value, reassign as the result of our multiplication and view the new result.\n",
    "# note that multiplying a negative number by a negative number will yield a spositive result\n",
    "x = -20\n",
    "x = x * -1\n",
    "x"
   ]
  },
  {
   "cell_type": "code",
   "execution_count": 16,
   "metadata": {},
   "outputs": [
    {
     "data": {
      "text/plain": [
       "3"
      ]
     },
     "execution_count": 16,
     "metadata": {},
     "output_type": "execute_result"
    }
   ],
   "source": [
    "# demo the negating of a number sign. \n",
    "1 - -2"
   ]
  },
  {
   "cell_type": "markdown",
   "metadata": {},
   "source": [
    "***Points to remember** \n",
    "- If we have an equal amount of negative signs it's equal to a positive sign, an odd number of negative signs is equal to a negative.\n",
    "- positive + positive = positive \n",
    "- negative + negative = negative\n",
    "- positive + negative or negative plus positive will be positive if the positive number is larger, negative if the negative number is larger. Zero if the numbers are equal. \n"
   ]
  },
  {
   "cell_type": "markdown",
   "metadata": {},
   "source": [
    "## Adding and subtacting signed numbers\n",
    "\n",
    "- Double negative becomes a positive \n",
    "- Cancellation can lead to simplifications: + (+2) + (-2) or 2-2 = 0, therefore dropped from expression. "
   ]
  },
  {
   "cell_type": "code",
   "execution_count": 24,
   "metadata": {},
   "outputs": [
    {
     "data": {
      "text/plain": [
       "2"
      ]
     },
     "execution_count": 24,
     "metadata": {},
     "output_type": "execute_result"
    }
   ],
   "source": [
    "# double negative becomes a positive, therefore we get +2 as the result\n",
    "x = -1 - -3\n",
    "x"
   ]
  },
  {
   "cell_type": "code",
   "execution_count": 25,
   "metadata": {},
   "outputs": [
    {
     "data": {
      "text/plain": [
       "-3"
      ]
     },
     "execution_count": 25,
     "metadata": {},
     "output_type": "execute_result"
    }
   ],
   "source": [
    "# example of cancellation. \n",
    "x = -3 + (+2) + (-2)\n",
    "x\n",
    "# We can view this as: \n",
    "# -3 + (2 - 2)\n",
    "# or -3 + 0 (identity addition)\n",
    "# meanig it goes unchanged and is -3"
   ]
  },
  {
   "cell_type": "code",
   "execution_count": 28,
   "metadata": {},
   "outputs": [
    {
     "data": {
      "text/plain": [
       "(9, -9)"
      ]
     },
     "execution_count": 28,
     "metadata": {},
     "output_type": "execute_result"
    }
   ],
   "source": [
    "# Note we can see the sign pf the result lies with the bigger number\n",
    "# if we take both examples it would be easily confused, or assumed \n",
    "# to be the same. \n",
    "x = 36 + -27\n",
    "y = -36 +27 \n",
    "\n",
    "# With x, we see that 36 is the larger number so we know the result \n",
    "# will be positve. \n",
    "\n",
    "# with y, we see the larger number is negative so we now know the \n",
    "# result will be a negative number. \n",
    "\n",
    "x, y"
   ]
  },
  {
   "cell_type": "markdown",
   "metadata": {},
   "source": [
    "## Simplifying an expression"
   ]
  },
  {
   "cell_type": "markdown",
   "metadata": {},
   "source": [
    "Simplification is the quickest route to conclusion for basic operations. Taking sample below we will simplify by ringfencing the negative numbers by applying the technique of sign sepration, aggregating and applying simplified calculation. \n",
    "\n",
    "Example:  3 + 4 - 5 + 6 - 3 + 2 - 10\n",
    "\n",
    "- This becomes: 3 + 4 + (-5) + 6 + (-3) + 2 + (-10)\n",
    "- Add the positives: 3+4+6+2 = 15 \n",
    "- Add the negatives: -5 + -3 + -10 = -18\n",
    "- conclusion: 15 -18 = -3"
   ]
  },
  {
   "cell_type": "code",
   "execution_count": 29,
   "metadata": {},
   "outputs": [
    {
     "data": {
      "text/plain": [
       "-3"
      ]
     },
     "execution_count": 29,
     "metadata": {},
     "output_type": "execute_result"
    }
   ],
   "source": [
    "# python agrees\n",
    "3 + 4 - 5 + 6 - 3 + 2 - 10"
   ]
  },
  {
   "cell_type": "markdown",
   "metadata": {},
   "source": [
    "## Multiplication with signed numbers \n",
    "\n",
    "For the multiplication of sugned numbers we can break this down to two simple rules to remember, the caveat being that it is applicable only when you have a single multiplication, or two operands. \n",
    "\n",
    "- If the signs are the same you will have a positive result\n",
    "- if the signs are different you will have a negative result "
   ]
  },
  {
   "cell_type": "code",
   "execution_count": 30,
   "metadata": {},
   "outputs": [
    {
     "data": {
      "text/plain": [
       "-6"
      ]
     },
     "execution_count": 30,
     "metadata": {},
     "output_type": "execute_result"
    }
   ],
   "source": [
    "2 * -3"
   ]
  },
  {
   "cell_type": "code",
   "execution_count": 31,
   "metadata": {},
   "outputs": [
    {
     "data": {
      "text/plain": [
       "-6"
      ]
     },
     "execution_count": 31,
     "metadata": {},
     "output_type": "execute_result"
    }
   ],
   "source": [
    "-2 * 3"
   ]
  },
  {
   "cell_type": "code",
   "execution_count": 32,
   "metadata": {},
   "outputs": [
    {
     "data": {
      "text/plain": [
       "6"
      ]
     },
     "execution_count": 32,
     "metadata": {},
     "output_type": "execute_result"
    }
   ],
   "source": [
    "-2 * -3"
   ]
  },
  {
   "cell_type": "code",
   "execution_count": 33,
   "metadata": {},
   "outputs": [
    {
     "data": {
      "text/plain": [
       "-24"
      ]
     },
     "execution_count": 33,
     "metadata": {},
     "output_type": "execute_result"
    }
   ],
   "source": [
    "# using three operads Odd number, it will be a negative result\n",
    "-2 * -3 * -4\n",
    "\n",
    "# We take two negatives, apply the rule and we have a positive\n",
    "# now we have a positive and a negative and apply the rule for \n",
    "# different signs meaning negative return."
   ]
  },
  {
   "cell_type": "code",
   "execution_count": 34,
   "metadata": {},
   "outputs": [
    {
     "data": {
      "text/plain": [
       "120"
      ]
     },
     "execution_count": 34,
     "metadata": {},
     "output_type": "execute_result"
    }
   ],
   "source": [
    "# Using 4, again we have a even number therefore the sign switch will take place.\n",
    "# two sets of sign cancellation. \n",
    "-2 * -3 * -4 * -5"
   ]
  },
  {
   "cell_type": "markdown",
   "metadata": {},
   "source": [
    "## Division of signed numbers\n",
    "\n",
    "- Dividing positive by positive will give a positive return\n",
    "- Dividing negative by negative will give a positive return\n",
    "- Dividing a positive by negative, or a negative by positive will give a negative return."
   ]
  },
  {
   "cell_type": "code",
   "execution_count": 36,
   "metadata": {},
   "outputs": [
    {
     "name": "stdout",
     "output_type": "stream",
     "text": [
      "2.0\n",
      "-2.0\n",
      "-2.0\n",
      "2.0\n"
     ]
    }
   ],
   "source": [
    "print(6 / 3)\n",
    "print(-6 / 3)\n",
    "print(6 / -3)\n",
    "print(-6 / -3)"
   ]
  },
  {
   "cell_type": "markdown",
   "metadata": {},
   "source": [
    "Where more than two numbers are involved in the division opreation we have to upgrade the understanding and apply the same even/odd analysis as with multiplication. Can we simplify in order to get a two operand operation?"
   ]
  },
  {
   "cell_type": "code",
   "execution_count": 41,
   "metadata": {},
   "outputs": [
    {
     "data": {
      "text/plain": [
       "1.0"
      ]
     },
     "execution_count": 41,
     "metadata": {},
     "output_type": "execute_result"
    }
   ],
   "source": [
    "# eg..\n",
    "\n",
    "-2 * -3 / 6\n",
    "\n",
    "# yields 1, because we can simplify -2 * -3 to 2*3 = 6 and then 6/6 = 1"
   ]
  },
  {
   "cell_type": "code",
   "execution_count": 42,
   "metadata": {},
   "outputs": [
    {
     "data": {
      "text/plain": [
       "-1.0"
      ]
     },
     "execution_count": 42,
     "metadata": {},
     "output_type": "execute_result"
    }
   ],
   "source": [
    "# clue there are an odd number of negative signs, we expect a negative return\n",
    "-7 * 1 / 7"
   ]
  },
  {
   "cell_type": "markdown",
   "metadata": {},
   "source": [
    "## Absolute values\n",
    "\n",
    "Literally means distance from the origin where the origin is zero. Distance from the origin is always going to be positibf which is why the common understanding of _just take away the negative sign_ comes from which is not quite right, even though the answer is correct. No matter which direction we travel from the origin the distance from the origin will always be positve, hence the absolute number is always a positive number.  "
   ]
  },
  {
   "cell_type": "code",
   "execution_count": 45,
   "metadata": {},
   "outputs": [
    {
     "data": {
      "text/plain": [
       "1"
      ]
     },
     "execution_count": 45,
     "metadata": {},
     "output_type": "execute_result"
    }
   ],
   "source": [
    "# To get the absolute value in python we use the abs function.\n",
    "# The result of 3 minus 4 is -1, which is 1 step away from \n",
    "# the origin and therefore the absolute value is 1. \n",
    "abs(3 -4)"
   ]
  },
  {
   "cell_type": "code",
   "execution_count": 47,
   "metadata": {},
   "outputs": [
    {
     "data": {
      "text/plain": [
       "6"
      ]
     },
     "execution_count": 47,
     "metadata": {},
     "output_type": "execute_result"
    }
   ],
   "source": [
    "# 17 + -23 is -6, 6 is 6 steps away from the origin.\n",
    "abs(17 + -23)"
   ]
  },
  {
   "cell_type": "code",
   "execution_count": 49,
   "metadata": {},
   "outputs": [
    {
     "data": {
      "text/plain": [
       "-4"
      ]
     },
     "execution_count": 49,
     "metadata": {},
     "output_type": "execute_result"
    }
   ],
   "source": [
    "# Here we're taking the absolute value of -4 which is 4, \n",
    "# but that return is negated outside the eva;uation of\n",
    "# the absolute number therefore it returns -4. \n",
    "- abs(-4)"
   ]
  },
  {
   "cell_type": "code",
   "execution_count": 51,
   "metadata": {},
   "outputs": [
    {
     "data": {
      "text/plain": [
       "-4"
      ]
     },
     "execution_count": 51,
     "metadata": {},
     "output_type": "execute_result"
    }
   ],
   "source": [
    "# same as above without the abs operating on a negative number\n",
    "- abs(4)"
   ]
  },
  {
   "cell_type": "code",
   "execution_count": 57,
   "metadata": {},
   "outputs": [
    {
     "data": {
      "text/plain": [
       "-6"
      ]
     },
     "execution_count": 57,
     "metadata": {},
     "output_type": "execute_result"
    }
   ],
   "source": [
    "- abs(2 -3 -3) - abs(-2)"
   ]
  },
  {
   "cell_type": "code",
   "execution_count": 54,
   "metadata": {},
   "outputs": [
    {
     "data": {
      "text/plain": [
       "-4"
      ]
     },
     "execution_count": 54,
     "metadata": {},
     "output_type": "execute_result"
    }
   ],
   "source": []
  },
  {
   "cell_type": "code",
   "execution_count": 56,
   "metadata": {},
   "outputs": [
    {
     "data": {
      "text/plain": [
       "-45"
      ]
     },
     "execution_count": 56,
     "metadata": {},
     "output_type": "execute_result"
    }
   ],
   "source": []
  },
  {
   "cell_type": "code",
   "execution_count": null,
   "metadata": {},
   "outputs": [],
   "source": []
  }
 ],
 "metadata": {
  "kernelspec": {
   "display_name": "cvkit",
   "language": "python",
   "name": "cvkit"
  },
  "language_info": {
   "codemirror_mode": {
    "name": "ipython",
    "version": 3
   },
   "file_extension": ".py",
   "mimetype": "text/x-python",
   "name": "python",
   "nbconvert_exporter": "python",
   "pygments_lexer": "ipython3",
   "version": "3.6.6"
  }
 },
 "nbformat": 4,
 "nbformat_minor": 4
}
