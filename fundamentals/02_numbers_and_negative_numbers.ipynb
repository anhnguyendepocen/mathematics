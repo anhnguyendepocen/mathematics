{
 "cells": [
  {
   "cell_type": "markdown",
   "metadata": {},
   "source": [
    "# Numbers\n",
    "\n",
    "Welcome to mathematics. We're going to learn both math and python. The following series will cover a lot of math theory and practicals. For practicals we will use the `python` programming language. "
   ]
  },
  {
   "cell_type": "markdown",
   "metadata": {},
   "source": [
    "### Numeric terminology\n",
    "\n",
    "- Natural numbers: so called natural numbers because we tend to count from 1 upward. \n",
    "- Whole numbers: a number set that is zero indexed, so [0,1,2,3,4,5...] and so on. This includes all `natural numbers`. \n",
    "- Integers: zero, positive or negative numbers that have no fractional part. \n",
    "- Rational numbers: All natural, whole and integer sets with the adition of fractional inclusion. \n",
    "- Real numbers: All sets together are recognised as the 'real number system'.\n",
    "\n",
    "Real numbers also includes irrational number sets. \n",
    "- Values that cannot be written as fractions. eg, square root of 2, pi.\n",
    "\n",
    "### Signage \n",
    "- R: Real numbers systems are often depicted with the 'R' symbol.\n",
    "- Q: Rational numbers\n",
    "- Z: Integers\n",
    "- W: Whole numbers\n",
    "- N: Natural numbers\n",
    "- R-Q: Irrational numbers. "
   ]
  },
  {
   "cell_type": "markdown",
   "metadata": {},
   "source": [
    " ### Identity numbers \n",
    "\n",
    "- Addition is zero\n",
    "- Multiplication is one. "
   ]
  },
  {
   "cell_type": "code",
   "execution_count": 4,
   "metadata": {},
   "outputs": [
    {
     "data": {
      "text/plain": [
       "17"
      ]
     },
     "execution_count": 4,
     "metadata": {},
     "output_type": "execute_result"
    }
   ],
   "source": [
    "# demo the addition identity number\n",
    "17 + 0"
   ]
  },
  {
   "cell_type": "code",
   "execution_count": 5,
   "metadata": {},
   "outputs": [
    {
     "data": {
      "text/plain": [
       "300"
      ]
     },
     "execution_count": 5,
     "metadata": {},
     "output_type": "execute_result"
    }
   ],
   "source": [
    "# demo the multiplication identity number\n",
    "300 * 1"
   ]
  },
  {
   "cell_type": "markdown",
   "metadata": {},
   "source": [
    "### Opposite numbers\n",
    "\n",
    "If a line of numerical whole numbers was drawn and zero is the centre, it can be easily seen that the opposite of a number is its negative counterpart. Let's look at a zero centered list to see the opposite distance between positive and negative number samples.\n",
    "\n",
    "***Point to remember** To achieve the opposite of a number we multiply it by -1 "
   ]
  },
  {
   "cell_type": "code",
   "execution_count": 6,
   "metadata": {},
   "outputs": [
    {
     "data": {
      "text/plain": [
       "[-5, -4, -3, -2, -1, 0, 1, 2, 3, 4, 5]"
      ]
     },
     "execution_count": 6,
     "metadata": {},
     "output_type": "execute_result"
    }
   ],
   "source": [
    "# create a python list \n",
    "opposites_demo = []\n",
    "\n",
    "# create a for loop to add numbers between -5 and 6 to our list, \n",
    "# we say 6 because a range takes a start and stop parameter. \n",
    "# While the start param (-5) is inclusive, the stop param\n",
    "# (6) is not, therefore to reach the desired number we add \n",
    "# one to the limit we want to stop at\n",
    "for x in range(-5, 6):\n",
    "    opposites_demo.append(x)\n",
    "\n",
    "opposites_demo"
   ]
  },
  {
   "cell_type": "markdown",
   "metadata": {},
   "source": [
    "Let's see the multiplier in action to achieve the opposite of a number "
   ]
  },
  {
   "cell_type": "code",
   "execution_count": 8,
   "metadata": {},
   "outputs": [
    {
     "data": {
      "text/plain": [
       "-10"
      ]
     },
     "execution_count": 8,
     "metadata": {},
     "output_type": "execute_result"
    }
   ],
   "source": [
    "# assign a value, reassign as the result of our multiplication and view the new result\n",
    "x = 10\n",
    "x = x * -1\n",
    "x"
   ]
  },
  {
   "cell_type": "code",
   "execution_count": 10,
   "metadata": {},
   "outputs": [
    {
     "data": {
      "text/plain": [
       "20"
      ]
     },
     "execution_count": 10,
     "metadata": {},
     "output_type": "execute_result"
    }
   ],
   "source": [
    "# assign a value, reassign as the result of our multiplication and view the new result.\n",
    "# note that multiplying a negative number by a negative number will yield a spositive result\n",
    "x = -20\n",
    "x = x * -1\n",
    "x"
   ]
  },
  {
   "cell_type": "code",
   "execution_count": 16,
   "metadata": {},
   "outputs": [
    {
     "data": {
      "text/plain": [
       "3"
      ]
     },
     "execution_count": 16,
     "metadata": {},
     "output_type": "execute_result"
    }
   ],
   "source": [
    "# demo the negating of a number sign. \n",
    "1 - -2"
   ]
  },
  {
   "cell_type": "markdown",
   "metadata": {},
   "source": [
    "***Points to remember** \n",
    "- If we have an equal amount of negative signs it's equal to a positive sign, an odd number of negative signs is equal to a negative.\n",
    "- positive + positive = positive \n",
    "- negative + negative = negative\n",
    "- positive + negative or negative plus positive will be positive if the positive number is larger, negative if the negative number is larger. Zero if the numbers are equal. \n"
   ]
  },
  {
   "cell_type": "markdown",
   "metadata": {},
   "source": [
    "### Adding and subtacting signed numbers"
   ]
  },
  {
   "cell_type": "code",
   "execution_count": 24,
   "metadata": {},
   "outputs": [
    {
     "data": {
      "text/plain": [
       "2"
      ]
     },
     "execution_count": 24,
     "metadata": {},
     "output_type": "execute_result"
    }
   ],
   "source": [
    "# double negative becomes a positive, therefore we get +2 as the result\n",
    "x = -1 - -3\n",
    "x"
   ]
  },
  {
   "cell_type": "code",
   "execution_count": 25,
   "metadata": {},
   "outputs": [
    {
     "data": {
      "text/plain": [
       "-3"
      ]
     },
     "execution_count": 25,
     "metadata": {},
     "output_type": "execute_result"
    }
   ],
   "source": [
    "# example of cancellation. \n",
    "x = -3 + (+2) + (-2)\n",
    "x\n",
    "# We can view this as: \n",
    "# -3 + (2 - 2)\n",
    "# or -3 + 0 (identity addition)\n",
    "# meanig it goes unchanged and is -3"
   ]
  },
  {
   "cell_type": "code",
   "execution_count": 28,
   "metadata": {},
   "outputs": [
    {
     "data": {
      "text/plain": [
       "(9, -9)"
      ]
     },
     "execution_count": 28,
     "metadata": {},
     "output_type": "execute_result"
    }
   ],
   "source": [
    "# Note we can see the sign pf the result lies with the bigger number\n",
    "# if we take both examples it would be easily confused, or assumed \n",
    "# to be the same. \n",
    "x = 36 + -27\n",
    "y = -36 +27 \n",
    "\n",
    "# With x, we see that 36 is the larger number so we know the result \n",
    "# will be positve. \n",
    "\n",
    "# with y, we see the larger number is negative so we now know the \n",
    "# result will be a negative number. \n",
    "\n",
    "x, y"
   ]
  },
  {
   "cell_type": "markdown",
   "metadata": {},
   "source": [
    "### Simplifying an expression"
   ]
  },
  {
   "cell_type": "markdown",
   "metadata": {},
   "source": [
    "Taking sample below we will simplify by ringfencing the negative numbers by applyig the technique of sign sepration, aggregatig and applying simplified calculation. \n",
    "\n",
    "Example:  3 + 4 - 5 + 6 - 3 + 2 - 10\n",
    "\n",
    "This becomes: 3 + 4 + (-5) + 6 + (-3) + 2 + (-10)\n",
    "\n",
    "Add the positives: 3+4+6+2 = 15 \n",
    "\n",
    "Add the negatives: -5 + -3 + -10 = -18\n",
    "\n",
    "conclusion: 15 -18 = -3\n",
    "\n"
   ]
  },
  {
   "cell_type": "code",
   "execution_count": 29,
   "metadata": {},
   "outputs": [
    {
     "data": {
      "text/plain": [
       "-3"
      ]
     },
     "execution_count": 29,
     "metadata": {},
     "output_type": "execute_result"
    }
   ],
   "source": [
    "# python agrees\n",
    "3 + 4 - 5 + 6 - 3 + 2 - 10"
   ]
  },
  {
   "cell_type": "code",
   "execution_count": null,
   "metadata": {},
   "outputs": [],
   "source": []
  },
  {
   "cell_type": "code",
   "execution_count": null,
   "metadata": {},
   "outputs": [],
   "source": []
  },
  {
   "cell_type": "code",
   "execution_count": null,
   "metadata": {},
   "outputs": [],
   "source": []
  },
  {
   "cell_type": "code",
   "execution_count": null,
   "metadata": {},
   "outputs": [],
   "source": []
  }
 ],
 "metadata": {
  "kernelspec": {
   "display_name": "cvkit",
   "language": "python",
   "name": "cvkit"
  },
  "language_info": {
   "codemirror_mode": {
    "name": "ipython",
    "version": 3
   },
   "file_extension": ".py",
   "mimetype": "text/x-python",
   "name": "python",
   "nbconvert_exporter": "python",
   "pygments_lexer": "ipython3",
   "version": "3.6.6"
  }
 },
 "nbformat": 4,
 "nbformat_minor": 4
}
