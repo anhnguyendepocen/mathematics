{
 "cells": [
  {
   "cell_type": "markdown",
   "metadata": {},
   "source": [
    "# Mathematics\n",
    "\n",
    "# The Fundamentals Series\n",
    "\n",
    "## Section Six : Decimals \n",
    "\n",
    "- 6.01 Place value\n",
    "- 6.02 Decimal arithmetic\n",
    "- 6.03 Repeating decimals\n",
    "- 6.04 Rounding"
   ]
  },
  {
   "cell_type": "code",
   "execution_count": 4,
   "metadata": {},
   "outputs": [],
   "source": [
    "# python imports\n",
    "from collections import Counter\n",
    "import numpy as np"
   ]
  },
  {
   "cell_type": "markdown",
   "metadata": {},
   "source": [
    "## 6.01 Place Value\n",
    "\n",
    "The value of location of a particular place in a number sequence. As we're suing base 10, we can say that left of the decimal operator is the whole numbers They work from the decimal place outward and are: \n",
    "- units\n",
    "- tens\n",
    "- hundreds\n",
    "- thousand\n",
    "- tens of thousands\n",
    "- hundreds of thousands\n",
    "- millions ...and so on....\n",
    "\n",
    "to the right of the decimal place, we have:\n",
    "- tenths\n",
    "- hundredths\n",
    "- thousandths \n",
    "- ten thousandths\n",
    "- hundred thousandths\n",
    "- millionths"
   ]
  },
  {
   "cell_type": "markdown",
   "metadata": {},
   "source": [
    "## 6.02 Decimal Arithmetic\n",
    "\n",
    "Decimal numbers can be subject to addition, subtraction, multiplication and division. "
   ]
  },
  {
   "cell_type": "markdown",
   "metadata": {},
   "source": [
    "Method for addition:\n",
    "- align the decimal places and perform a standard addition paying attention to carry over. \n",
    "\n",
    "Method for Subtraction:\n",
    "- as above but performing subtraction\n",
    "\n",
    "Method for multiplication\n",
    "- ignore the decimal places, right align numbers, largest on top, perform a standard multiplication like it was whole numbers, then apply the decimal by counting total decimal places in the source numbers.\n",
    "\n",
    "Method for Division:\n",
    "- hoist the decimal and perform a standard long division,"
   ]
  },
  {
   "cell_type": "markdown",
   "metadata": {},
   "source": [
    "## 6.03 Repeating Decimals \n",
    "\n",
    "Applicable to infinity numbers such as pi."
   ]
  },
  {
   "cell_type": "markdown",
   "metadata": {},
   "source": [
    "## 6.04 Rounding\n",
    "\n",
    "Standard rounding can be affected by place and by implemented rule. It's entirely possible that a system can define rounding up, or rounding down when specifics are to be documented. In standard terms we use the midway point and a point value of 1-5 will round down, 6 and above will round upward."
   ]
  },
  {
   "cell_type": "code",
   "execution_count": 6,
   "metadata": {},
   "outputs": [
    {
     "name": "stdout",
     "output_type": "stream",
     "text": [
      "round(6.76) = 7\n",
      "round(.45) = 0\n"
     ]
    }
   ],
   "source": [
    "# examples \n",
    "\n",
    "# rounding \n",
    "print(f\"round(6.76) = {round(6.76)}\")\n",
    "print(f\"round(.45) = {round(.45)}\")\n"
   ]
  },
  {
   "cell_type": "code",
   "execution_count": 9,
   "metadata": {},
   "outputs": [
    {
     "name": "stdout",
     "output_type": "stream",
     "text": [
      "round(.51) = 1\n",
      "round(.49) = 0\n",
      "round(.50) = 0\n"
     ]
    }
   ],
   "source": [
    "print(f\"round(.51) = {round(.51)}\")\n",
    "print(f\"round(.49) = {round(.49)}\")\n",
    "print(f\"round(.50) = {round(.50)}\")"
   ]
  },
  {
   "cell_type": "code",
   "execution_count": 11,
   "metadata": {},
   "outputs": [
    {
     "name": "stdout",
     "output_type": "stream",
     "text": [
      "round(6.76, 1) = 6.8\n",
      "round(.45, 1) = 0.5\n"
     ]
    }
   ],
   "source": [
    "# we can also specify decimal place rounding by passing a second argument\n",
    "\n",
    "# examples rounded to the first decimal place \n",
    "print(f\"round(6.76, 1) = {round(6.76, 1)}\")\n",
    "print(f\"round(.45, 1) = {round(.45, 1)}\")"
   ]
  },
  {
   "cell_type": "code",
   "execution_count": 12,
   "metadata": {},
   "outputs": [
    {
     "name": "stdout",
     "output_type": "stream",
     "text": [
      "round(.5559, 2) = 0.56\n",
      "round(.4949, 2) = 0.49\n",
      "round(.5099, 2) = 0.51\n"
     ]
    }
   ],
   "source": [
    "# examples rounded to the 2nd decimal place \n",
    "print(f\"round(.5559, 2) = {round(.5559, 2)}\")\n",
    "print(f\"round(.4949, 2) = {round(.4949, 2)}\")\n",
    "print(f\"round(.5099, 2) = {round(.5099, 2)}\")"
   ]
  },
  {
   "cell_type": "code",
   "execution_count": null,
   "metadata": {},
   "outputs": [],
   "source": []
  }
 ],
 "metadata": {
  "kernelspec": {
   "display_name": "cvkit",
   "language": "python",
   "name": "cvkit"
  },
  "language_info": {
   "codemirror_mode": {
    "name": "ipython",
    "version": 3
   },
   "file_extension": ".py",
   "mimetype": "text/x-python",
   "name": "python",
   "nbconvert_exporter": "python",
   "pygments_lexer": "ipython3",
   "version": "3.6.6"
  }
 },
 "nbformat": 4,
 "nbformat_minor": 4
}