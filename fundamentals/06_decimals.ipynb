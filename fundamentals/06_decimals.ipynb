{
 "cells": [
  {
   "cell_type": "markdown",
   "metadata": {},
   "source": [
    "# The Number Systems of Mathematics\n",
    "\n",
    "## Decimals \n",
    "\n",
    "- Place value\n",
    "- Decimal arithmetic\n",
    "- Repeating decimals\n",
    "- Rounding"
   ]
  },
  {
   "cell_type": "code",
   "execution_count": 1,
   "metadata": {},
   "outputs": [],
   "source": [
    "# python imports\n",
    "from collections import Counter\n",
    "import numpy as np"
   ]
  },
  {
   "cell_type": "markdown",
   "metadata": {},
   "source": [
    "## Place Value\n",
    "\n",
    "The value of location of a particular place in a number sequence. As we're suing base 10, we can say that left of the decimal operator is the whole numbers They work from the decimal place outward and are: \n",
    "- units\n",
    "- tens\n",
    "- hundreds\n",
    "- thousand\n",
    "- tens of thousands\n",
    "- hundreds of thousands\n",
    "- millions ...and so on....\n",
    "\n",
    "to the right of the decinal place, we have:\n",
    "- tenths\n",
    "- hundredths\n",
    "- thousandths \n",
    "- ten thousandths\n",
    "- hundred thousandths\n",
    "- millionths"
   ]
  },
  {
   "cell_type": "markdown",
   "metadata": {},
   "source": [
    "## Decial Arithmetic\n",
    "\n",
    "Decimal numbers can be subject to addition, subtraction, multiplication and division. "
   ]
  },
  {
   "cell_type": "markdown",
   "metadata": {},
   "source": [
    "Method for addition:\n",
    "- align the decimal places and perform a standard addition paying attention to carry over. \n",
    "\n",
    "Method for Subtraction:\n",
    "- as above but performing subtraction\n",
    "\n",
    "Method for multiplication\n",
    "- ignore the decimal places, right align numbers, largest on top, perform a standard multiplication like it was whole numbers, then apply the decimal by counting total decimal places in the source numbers.\n",
    "\n",
    "Method for Division:\n",
    "- hoist the decimal and pefrorm a standard long division,"
   ]
  },
  {
   "cell_type": "markdown",
   "metadata": {},
   "source": [
    "## Repeating Decimals \n",
    "\n",
    "Applicable to infinity numbers such as pi."
   ]
  },
  {
   "cell_type": "code",
   "execution_count": null,
   "metadata": {},
   "outputs": [],
   "source": []
  },
  {
   "cell_type": "code",
   "execution_count": null,
   "metadata": {},
   "outputs": [],
   "source": []
  },
  {
   "cell_type": "code",
   "execution_count": null,
   "metadata": {},
   "outputs": [],
   "source": []
  },
  {
   "cell_type": "code",
   "execution_count": null,
   "metadata": {},
   "outputs": [],
   "source": []
  }
 ],
 "metadata": {
  "kernelspec": {
   "display_name": "cvkit",
   "language": "python",
   "name": "cvkit"
  },
  "language_info": {
   "codemirror_mode": {
    "name": "ipython",
    "version": 3
   },
   "file_extension": ".py",
   "mimetype": "text/x-python",
   "name": "python",
   "nbconvert_exporter": "python",
   "pygments_lexer": "ipython3",
   "version": "3.6.6"
  }
 },
 "nbformat": 4,
 "nbformat_minor": 4
}
