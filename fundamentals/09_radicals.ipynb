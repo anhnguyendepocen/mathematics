{
 "cells": [
  {
   "cell_type": "markdown",
   "metadata": {},
   "source": [
    "# Mathematics\n",
    "\n",
    "# The Fundamentals Series\n",
    "\n",
    "## Section Nine : Radicals\n",
    "\n",
    "- 9.01 Radicals\n",
    "- 9.02 Adding & Subtracting radicals\n",
    "- 9.03 Multiplying radicals\n",
    "- 9.04 Dividing radicals\n",
    "- 9.05 Radical expressions"
   ]
  },
  {
   "cell_type": "markdown",
   "metadata": {},
   "source": [
    "## 9.01 Radicals"
   ]
  },
  {
   "cell_type": "markdown",
   "metadata": {},
   "source": [
    "Radicals or roots are the opposite of exponents. The opposite of an exponent operation is to derive what it would take to be multiplied by itself two times in order to achieve the number. Square roots if you will.\n",
    "\n",
    "In the example we use `x` as the `radicand` and is deemed to be under the root $\\sqrt{x}$\n",
    "\n",
    "#### Examples: \n",
    "\n",
    "- $\\sqrt[3]{x}$  : The cubic root of `x` - A number multiplied 3 times by itself to achieve `x`\n",
    "\n",
    "- $\\sqrt[4]{x}$  : The fourth root of `x` - A number multiplied 4 times by itself to achieve `x`\n",
    "\n",
    "- $\\sqrt[5]{x}$  : The fifth root of `x` - A number multiplied 5 times by itself to achieve `x`\n",
    "\n",
    "#### Comments: \n",
    "- Taking the square root of `x` is the same as raising `x` to the $\\frac{1}{2}$ power. \n",
    "\n",
    "- $(x \\frac{1}{2})^2 = x^{(\\frac{1}{2} \\cdot 2)} = x^1 = x$\n",
    "\n",
    "\n",
    "#### Converting between roots and exponents: \n",
    "\n",
    "- $\\sqrt{x}$     : Is the same as : $x\\frac{1}{2}$\n",
    "\n",
    "- $\\sqrt[3]{x}$  : Is the same as : $x\\frac{1}{3}$\n",
    "\n",
    "- $\\sqrt[4]{x}$  : Is the same as : $x\\frac{1}{4}$\n",
    "\n",
    "- $\\sqrt[5]{x}$  : Is the same as : $x\\frac{1}{5}$"
   ]
  },
  {
   "cell_type": "markdown",
   "metadata": {},
   "source": [
    "## 9.02 Adding & Subtracting radicals"
   ]
  },
  {
   "cell_type": "markdown",
   "metadata": {},
   "source": [
    "When we have two terms that contain the same type of root$^i$ and identical radicands$^{ii}$ they are considered like-terms and addition or subtraction is really quite simple. \n",
    "\n",
    "- $^i$ the radical in both terms is a square root, or a cubed root\n",
    "- $^{ii}$ The expressions under the radicals in both terms are the same. \n"
   ]
  },
  {
   "cell_type": "markdown",
   "metadata": {},
   "source": [
    "#### Example 1\n",
    "\n",
    "$4 \\sqrt{2} - 6\\sqrt{2} + 13\\sqrt{2}$ "
   ]
  },
  {
   "cell_type": "markdown",
   "metadata": {},
   "source": [
    "In the first example we can take the radicals and the expression underneath, agree they are all identical and therefore reduce  the problem statement to (4 - 6) + 13 = 11.  \n",
    "\n",
    "**Solution:** \n",
    "\n",
    "$11\\sqrt{2}$"
   ]
  },
  {
   "cell_type": "markdown",
   "metadata": {},
   "source": [
    "#### Example 2\n",
    "\n",
    "$4\\sqrt{3} - 2\\sqrt{2} + 6\\sqrt{5}$"
   ]
  },
  {
   "cell_type": "markdown",
   "metadata": {},
   "source": [
    "All roots are different and cannot be reduced, therefore no action is taken"
   ]
  },
  {
   "cell_type": "markdown",
   "metadata": {},
   "source": [
    "#### Example 3\n",
    "\n",
    "$12\\sqrt{7} + 6\\sqrt{7} - 20\\sqrt{7}$"
   ]
  },
  {
   "cell_type": "markdown",
   "metadata": {},
   "source": [
    "In example 3 we can confirm they a re all like terms because the expressions under the radicals are the same. "
   ]
  },
  {
   "cell_type": "markdown",
   "metadata": {},
   "source": [
    "$12 + 6 - 20$\n",
    "\n",
    "**Solution:**\n",
    "\n",
    "$-2\\sqrt{7}$"
   ]
  },
  {
   "cell_type": "markdown",
   "metadata": {},
   "source": [
    "#### Example 4\n",
    "\n",
    "$3\\sqrt{5} + 2\\sqrt{20}$\n",
    "\n",
    "Here we can use a reference ruling of : $\\sqrt{m}{n} = \\sqrt{m} \\sqrt{n}$\n",
    "\n",
    "1. We can now redefine our problem statement as: \n",
    "\n",
    "$3\\sqrt{5} + 2\\sqrt{5 \\cdot 4}$\n",
    "\n",
    "2. refined again as: \n",
    "\n",
    "$3\\sqrt{5} + 2\\sqrt{5} \\sqrt{4}$\n",
    "\n",
    "3. The square root of $\\sqrt{4}$ = $2$ so we can refine as: \n",
    "\n",
    "$3\\sqrt{5} + 4\\sqrt{5}$\n",
    "\n",
    "**Solution:** \n",
    "\n",
    "$7 \\sqrt{5}$"
   ]
  },
  {
   "cell_type": "code",
   "execution_count": null,
   "metadata": {},
   "outputs": [],
   "source": []
  },
  {
   "cell_type": "markdown",
   "metadata": {},
   "source": [
    "## 9.03 Multiplying radicals"
   ]
  },
  {
   "cell_type": "markdown",
   "metadata": {},
   "source": [
    "When we multiply two radicals with the same type of root$^i$ we should just multiply the radicands$^{ii}$ and put the product under a radical sign. \n",
    "\n",
    "- $^i$ the radical in both terms is a square root, or a cubed root and identical in both.\n",
    "- $^{ii}$ The expressions under the radicals.\n",
    "\n",
    "reminder:  $\\sqrt{m} \\sqrt{n}  = \\sqrt{m n}$"
   ]
  },
  {
   "cell_type": "markdown",
   "metadata": {},
   "source": [
    "#### Example 1\n",
    "\n",
    "$\\sqrt{3} \\sqrt{2}$\n",
    "\n",
    "$3 \\cdot 2 = 6$\n",
    "\n",
    "solution: \n",
    "    \n",
    "$\\sqrt{6}$"
   ]
  },
  {
   "cell_type": "markdown",
   "metadata": {},
   "source": [
    "#### Example 2\n",
    "\n",
    "Handling an example with coefficients also. \n",
    "\n",
    "$3\\sqrt{2} \\cdot 4\\sqrt{12} \\cdot 2\\sqrt{3}$\n",
    "\n",
    "- Whole number coefficient will be $3 \\cdot 4 \\cdot 2 = 24$\n",
    "\n",
    "- multiply the roots $2 \\cdot 12 \\cdot 3 = 72$\n",
    "\n",
    "- yields a first solution of: $24\\sqrt{72}$ \n",
    "\n",
    "- 72 can be divided by 9 (a prime) and therefore we have $24\\sqrt{9 \\cdot 8}$ \n",
    "\n",
    "- $24\\sqrt{9} \\sqrt{8}$ \n",
    "\n",
    "- $9 \\div 3 = 3$ which yields: $3 \\cdot 24 = 72$ and therefore: $72\\sqrt{8}$\n",
    "\n",
    "- We're still not done, because $72\\sqrt{8}$ is the same as $72\\sqrt{4 \\cdot 2}$ or.. \n",
    "\n",
    "- $72\\sqrt{4} \\sqrt{2}$ and now we can reduce the 4 to 2 and multiply the coefficient by 2. \n",
    "\n",
    "**Solution:**\n",
    "\n",
    "- $144\\sqrt{2}$\n"
   ]
  },
  {
   "cell_type": "markdown",
   "metadata": {},
   "source": [
    "#### Example 3\n",
    "\n",
    "$4\\sqrt{3} \\cdot 6\\sqrt{6}$"
   ]
  },
  {
   "cell_type": "markdown",
   "metadata": {},
   "source": [
    "- $4 \\cdot 6 = 24$ \n",
    "- $3 \\cdot 6 = 18$\n",
    "\n",
    "Therefore we have: \n",
    "\n",
    "- $24\\sqrt{18}$ or... \n",
    "\n",
    "- $24\\sqrt{9} \\sqrt{2}$ or... \n",
    "\n",
    "**Solution:**\n",
    "\n",
    "$72\\sqrt{2}$"
   ]
  },
  {
   "cell_type": "markdown",
   "metadata": {},
   "source": [
    "#### Example 4\n",
    "\n",
    "$4 \\sqrt{2} (3\\sqrt{2} + 5)$\n",
    "\n",
    "**note** here we must apply the $4\\sqrt{2}$ across both of binomials $3\\sqrt{2}$ and $5$\n",
    "\n",
    "- $4 \\sqrt{2} (3\\sqrt{2}$\n",
    "    - $4 \\dot 3 = 12$\n",
    "    - $12/sqrt{2 \\cdot 2}$\n",
    "    \n",
    "- $4 \\cdot 5 = 20$ and take the only present square root.\n",
    "\n",
    "- $12\\sqrt{2 \\cdot 2} + 20\\sqrt{2}$\n",
    "\n",
    "- $12\\sqrt{4} + 20\\sqrt{2}$ - The square root of 4 is 2 so we can simplify to: \n",
    "\n",
    "- $24 + 20\\sqrt{2}$"
   ]
  },
  {
   "cell_type": "markdown",
   "metadata": {},
   "source": [
    "#### Example 5\n",
    "\n",
    "$\\sqrt{108}$ \n",
    "\n",
    "We can breakdown with the following steps:\n",
    "\n",
    "- $\\sqrt{9 \\cdot 12}$ or... \n",
    "\n",
    "- $\\sqrt{9} \\cdot \\sqrt{12}$\n",
    "\n",
    "- $\\sqrt{9} = 3$ so we can simplify to: \n",
    "\n",
    "- $3\\sqrt{12}$ or...\n",
    "\n",
    "- #3\\sqrt{4} \\sqrt{3}\n",
    "\n",
    "- The square root of 4 is 2 therefore 2 * 3 = 6 and we have a solution.\n",
    "\n",
    "**Solution:**\n",
    "\n",
    "$6\\sqrt{3}$\n"
   ]
  },
  {
   "cell_type": "code",
   "execution_count": null,
   "metadata": {},
   "outputs": [],
   "source": []
  },
  {
   "cell_type": "markdown",
   "metadata": {},
   "source": [
    "## 9.04 Dividing radicals"
   ]
  },
  {
   "cell_type": "markdown",
   "metadata": {},
   "source": [
    "reminder: $\\frac{\\sqrt{9}}{\\sqrt{6}} = \\sqrt{\\frac{9}{6}}$"
   ]
  },
  {
   "cell_type": "markdown",
   "metadata": {},
   "source": [
    "#### Example 1\n",
    "\n",
    "$\\frac{\\sqrt{100}}{\\sqrt{4}}$\n",
    "\n",
    "- $\\frac{\\sqrt{100}}{\\sqrt{4}} = \\sqrt{\\frac{100}{4}}$\n",
    "\n",
    "- simplifies to: $\\sqrt{25}$\n",
    "\n",
    "**Solution:** \n",
    "\n",
    "5"
   ]
  },
  {
   "cell_type": "markdown",
   "metadata": {},
   "source": [
    "#### Example 2\n",
    "\n",
    "$\\frac{\\sqrt{24}}{\\sqrt{18}}$\n",
    "\n",
    "- $\\sqrt{24} = \\sqrt{6 \\cdot 4}$\n",
    "\n",
    "- $\\sqrt{18} = \\sqrt{6 \\cdot 3}$\n",
    "\n",
    "The first simplification yields: \n",
    "    \n",
    "- $\\frac{\\sqrt{6 \\cdot 4}}{\\sqrt{6 \\cdot 3}}$\n",
    "\n",
    "We can now apply the rule: $\\sqrt{a \\cdot b} = \\sqrt{a} \\sqrt{b}$\n",
    "\n",
    "- $\\frac{\\sqrt{6} \\sqrt{4}}{\\sqrt{6} \\sqrt{3}}$\n",
    "\n",
    "The sqrt of 6's can be canceled and therefore we now have: \n",
    "\n",
    "- $\\frac{\\sqrt{4}}{\\sqrt{3}}$\n",
    "\n",
    "Our four can be simplified leaving:  $\\frac{2}{\\sqrt{3}}$ but we never want to leave a radical in the denominator so we can rationalize the denominator.\n",
    "\n",
    "- $\\frac{2}{\\sqrt{3}} \\cdot \\frac{\\sqrt{3}}{\\sqrt{3}}$ = $\\frac{2 \\sqrt{3}}{3}$"
   ]
  },
  {
   "cell_type": "markdown",
   "metadata": {},
   "source": [
    "## 9.05 Radical expressions"
   ]
  },
  {
   "cell_type": "code",
   "execution_count": null,
   "metadata": {},
   "outputs": [],
   "source": []
  }
 ],
 "metadata": {
  "kernelspec": {
   "display_name": "cvkit",
   "language": "python",
   "name": "cvkit"
  },
  "language_info": {
   "codemirror_mode": {
    "name": "ipython",
    "version": 3
   },
   "file_extension": ".py",
   "mimetype": "text/x-python",
   "name": "python",
   "nbconvert_exporter": "python",
   "pygments_lexer": "ipython3",
   "version": "3.6.6"
  }
 },
 "nbformat": 4,
 "nbformat_minor": 4
}
