{
 "cells": [
  {
   "cell_type": "markdown",
   "metadata": {},
   "source": [
    "# The Number Systems of Mathematics\n",
    "\n",
    "# The Fundamentals Series\n",
    "\n",
    "## Radicals\n",
    "\n",
    "- 9.01 Radicals\n",
    "- 9.02 Adding & Subtracting radicals\n",
    "- 9.03 Multiplying & Dividing radicals\n",
    "- 9.04 Radical expressions"
   ]
  },
  {
   "cell_type": "markdown",
   "metadata": {},
   "source": [
    "## 9.01 Radicals"
   ]
  },
  {
   "cell_type": "markdown",
   "metadata": {},
   "source": [
    "Radicals or roots are the opposite of exponents. The opposite of an exponent operation is to derive what it would take to be multiplied by itself two times in order to achieve the number. Square roots if you will.\n",
    "\n",
    "In the example we use `x` as the `radicand` and is deemed to be under the root $\\sqrt{x}$\n",
    "\n",
    "#### Examples: \n",
    "\n",
    "- $\\sqrt[3]{x}$  : The cubic root of `x` - A number multiplied 3 times by itself to achieve `x`\n",
    "\n",
    "- $\\sqrt[4]{x}$  : The fourth root of `x` - A number multiplied 4 times by itself to achieve `x`\n",
    "\n",
    "- $\\sqrt[5]{x}$  : The fifth root of `x` - A number multiplied 5 times by itself to achieve `x`\n",
    "\n",
    "#### Comments: \n",
    "- Taking the square root of `x` is the same as raising `x` to the $\\frac{1}{2}$ power. \n",
    "\n",
    "- $(x \\frac{1}{2})^2 = x^{(\\frac{1}{2} \\cdot 2)} = x^1 = x$\n",
    "\n",
    "\n",
    "#### Converting between roots and exponents: \n",
    "\n",
    "- $\\sqrt{x}$     : Is the same as : $x\\frac{1}{2}$\n",
    "\n",
    "- $\\sqrt[3]{x}$  : Is the same as : $x\\frac{1}{3}$\n",
    "\n",
    "- $\\sqrt[4]{x}$  : Is the same as : $x\\frac{1}{4}$\n",
    "\n",
    "- $\\sqrt[5]{x}$  : Is the same as : $x\\frac{1}{5}$"
   ]
  },
  {
   "cell_type": "markdown",
   "metadata": {},
   "source": [
    "## 9.02 Adding & Subtracting radicals"
   ]
  },
  {
   "cell_type": "code",
   "execution_count": null,
   "metadata": {},
   "outputs": [],
   "source": []
  },
  {
   "cell_type": "markdown",
   "metadata": {},
   "source": [
    "## 9.03 Multiplying & Dividing radicals"
   ]
  },
  {
   "cell_type": "code",
   "execution_count": null,
   "metadata": {},
   "outputs": [],
   "source": []
  },
  {
   "cell_type": "markdown",
   "metadata": {},
   "source": [
    "## 9.04 Radical expressions"
   ]
  },
  {
   "cell_type": "code",
   "execution_count": null,
   "metadata": {},
   "outputs": [],
   "source": []
  }
 ],
 "metadata": {
  "kernelspec": {
   "display_name": "cvkit",
   "language": "python",
   "name": "cvkit"
  },
  "language_info": {
   "codemirror_mode": {
    "name": "ipython",
    "version": 3
   },
   "file_extension": ".py",
   "mimetype": "text/x-python",
   "name": "python",
   "nbconvert_exporter": "python",
   "pygments_lexer": "ipython3",
   "version": "3.6.6"
  }
 },
 "nbformat": 4,
 "nbformat_minor": 4
}
