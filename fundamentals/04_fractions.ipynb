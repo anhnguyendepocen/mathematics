{
 "cells": [
  {
   "cell_type": "markdown",
   "metadata": {},
   "source": [
    "# Mathematics\n",
    "\n",
    "# The Fundamentals Series\n",
    "\n",
    "## Section Four : Fractions\n",
    "\n",
    "- 4.01 Simplification & Cancellation\n",
    "- 4.02 Equivalent fractions\n",
    "- 4.03 Division of zero\n",
    "- 4.04 Addition & Subtraction of fractions\n",
    "- 4.05 Multiplication & Division of fractions\n",
    "- 4.06 Signs of fractions\n",
    "- 4.07 Reciprocals"
   ]
  },
  {
   "cell_type": "markdown",
   "metadata": {},
   "source": [
    "Fractions are rational numbers which means they ratio of integers. Fractions should be thought of as part of a whole. a fraction will always be a two part structure where we have the numerator and the denominator. Typically it will physically resemble $\\frac {2}{3}$ or $\\frac {11}{17}$ etc.. Fractional structures can be looked at as demonstrating the partial value between zero and one. "
   ]
  },
  {
   "cell_type": "code",
   "execution_count": 134,
   "metadata": {},
   "outputs": [],
   "source": [
    "# python imports\n",
    "from collections import Counter\n",
    "import numpy as np"
   ]
  },
  {
   "cell_type": "markdown",
   "metadata": {},
   "source": [
    "## 4.01 Simplification & Cancellation\n",
    "\n",
    "The aim is to reduce a fraction to its lowest terms. This is done by simplification and cancellation, for instance, assume we look at $\\frac {50}{100}$ we can see that this is a half, which is the same as $\\frac {5}{10}$. But we can further simplify. Indeed it's the same as $\\frac {2}{4}$ but that's still not the lowest terms. We can see that a half or 50% can be written as $\\frac {1}{2}$ and this is the lowest terms we can reach for our values.  \n",
    "\n",
    "To deduce the lowest terms we can use prime factorization again. "
   ]
  },
  {
   "cell_type": "code",
   "execution_count": 135,
   "metadata": {},
   "outputs": [],
   "source": [
    "# returns the product values as a list. \n",
    "def product_of_primes(num):\n",
    "    \n",
    "    # produce a list comprehension of all prime numbers between 2-500\n",
    "    primes = [x for x in range(2, 500) if all(x % y != 0 for y in range(2, x))]\n",
    "    \n",
    "    # create a list for our products \n",
    "    pr = []\n",
    "    working_num = num\n",
    "    \n",
    "    # run the list \n",
    "    for prime in primes:\n",
    "        if working_num % prime == 0:\n",
    "            while working_num % prime == 0:\n",
    "                working_num /= prime\n",
    "                # factor identified, add to the list \n",
    "                pr.append(prime)\n",
    "                \n",
    "    # print the completed list\n",
    "    return pr"
   ]
  },
  {
   "cell_type": "markdown",
   "metadata": {},
   "source": [
    "#### Example 1\n",
    "\n",
    "Problem Statement Definition: $\\frac {10}{24}$"
   ]
  },
  {
   "cell_type": "code",
   "execution_count": 136,
   "metadata": {},
   "outputs": [
    {
     "data": {
      "text/plain": [
       "([2, 5], [2, 2, 2, 3])"
      ]
     },
     "execution_count": 136,
     "metadata": {},
     "output_type": "execute_result"
    }
   ],
   "source": [
    "# get our product of primes values.\n",
    "product_of_primes(10), product_of_primes(24)"
   ]
  },
  {
   "cell_type": "markdown",
   "metadata": {},
   "source": [
    "We can now use cancellation: \n",
    "\n",
    "- Identify cancellation targets as the leading 2 from both the numerator and denominator. \n",
    "\n",
    "- We can therefore express the problem as: $\\frac {10}{24}$ as $\\frac {5}{2^2 \\cdot 3}$ This may still be confusing to look at therefore we can resolve $2^2 \\cdot 3$ as $2 \\cdot 2 \\cdot 3$ or 12.  \n",
    "\n",
    "- The complete reduction process gives us $\\frac {5}{12}$"
   ]
  },
  {
   "cell_type": "markdown",
   "metadata": {},
   "source": [
    "#### Example 2\n",
    "\n",
    "Problem statement definition: $\\frac {54}{81}$"
   ]
  },
  {
   "cell_type": "code",
   "execution_count": 137,
   "metadata": {},
   "outputs": [
    {
     "data": {
      "text/plain": [
       "([2, 3, 3, 3], [3, 3, 3, 3])"
      ]
     },
     "execution_count": 137,
     "metadata": {},
     "output_type": "execute_result"
    }
   ],
   "source": [
    "product_of_primes(54), product_of_primes(81)"
   ]
  },
  {
   "cell_type": "markdown",
   "metadata": {},
   "source": [
    "Process of cancellation details: \n",
    "\n",
    "- allows us to remove three 3's from each side of our fraction, thus leaving us with $\\frac {2}{3}$"
   ]
  },
  {
   "cell_type": "markdown",
   "metadata": {},
   "source": [
    "#### Example 3\n",
    "\n",
    "Problem statement definition: $\\frac {56}{27} \\cdot \\frac{14}{21} \\cdot \\frac{15}{22}$"
   ]
  },
  {
   "cell_type": "code",
   "execution_count": 138,
   "metadata": {},
   "outputs": [
    {
     "data": {
      "text/plain": [
       "([2, 2, 2, 7], [3, 3, 3])"
      ]
     },
     "execution_count": 138,
     "metadata": {},
     "output_type": "execute_result"
    }
   ],
   "source": [
    "# step 1 - calculate the product of primes for 56/27\n",
    "product_of_primes(56), product_of_primes(27)"
   ]
  },
  {
   "cell_type": "code",
   "execution_count": 139,
   "metadata": {},
   "outputs": [
    {
     "data": {
      "text/plain": [
       "([2, 7], [3, 7])"
      ]
     },
     "execution_count": 139,
     "metadata": {},
     "output_type": "execute_result"
    }
   ],
   "source": [
    "# step 2 - calculate the product of primes for 14/21\n",
    "product_of_primes(14), product_of_primes(21)"
   ]
  },
  {
   "cell_type": "code",
   "execution_count": 140,
   "metadata": {},
   "outputs": [
    {
     "data": {
      "text/plain": [
       "([3, 5], [2, 11])"
      ]
     },
     "execution_count": 140,
     "metadata": {},
     "output_type": "execute_result"
    }
   ],
   "source": [
    "# step 3 - calculate the product of primes for 15/22\n",
    "product_of_primes(15), product_of_primes(22)"
   ]
  },
  {
   "cell_type": "markdown",
   "metadata": {},
   "source": [
    "At this point we now have: $\\frac{2^3 \\cdot 7}{3^3} \\cdot \\frac{2}{3} \\cdot \\frac{3 \\cdot 5}{2 \\cdot 11}$\n",
    "\n",
    "Now we look to cancellation:\n",
    "\n",
    "- Identifying we have 3 in the denominator in $\\frac{2}{3}$ and 15 in the numerator of $\\frac{15}{22}$ and the 2 and 11 are also divisible, therefore that leaves $\\frac{1}{1} \\cdot \\frac{5}{11}$ meaning the $\\frac{1}{1}$ can be canceled completely.\n",
    "- Now we have: $\\frac{2^3 \\cdot 7}{3^3} \\cdot \\frac{5}{11}$\n",
    "    \n",
    "We cannot reduce any further, so we now have to take the whole numerator/denominator result. $56 \\cdot 5$ and $27 \\cdot 11$ = $\\frac{280}{297}$"
   ]
  },
  {
   "cell_type": "markdown",
   "metadata": {},
   "source": [
    "#### Example 4\n",
    "\n",
    "Problem statement Definition: $\\frac{12}{105} \\cdot \\frac{14}{30} \\cdot \\frac{15}{14}$\n",
    "\n",
    "- Immediate cancellation allows us to see the matches in the last two fractions, the 14's in the numerator and demonimator cancel each other, the 15 and 30 can be reduced, therefore we have $\\frac{1}{2} \\cdot \\frac{1}{1}$ the last of which can be cancelled completely. Leaving the new problem statement to be: $\\frac{12}{105} \\cdot \\frac{1}{2}$\n",
    "- Further cancellation, we can see the 12 in the numerator and the 2 in the denominator are divisibe, leaving:$\\frac{6}{105} \\cdot \\frac{1}{1}$ and the $\\frac{1}{1}$ can be removed completely. We now have $\\frac{6}{105}$ which are divisible by 3. \n",
    "- After the divison by 3 we have $\\frac{2}{35}$"
   ]
  },
  {
   "cell_type": "markdown",
   "metadata": {},
   "source": [
    "#### Example 5\n",
    "\n",
    "Problem statement definition $\\frac{50}{85}$"
   ]
  },
  {
   "cell_type": "code",
   "execution_count": 141,
   "metadata": {},
   "outputs": [
    {
     "data": {
      "text/plain": [
       "([2, 5, 5], [5, 17])"
      ]
     },
     "execution_count": 141,
     "metadata": {},
     "output_type": "execute_result"
    }
   ],
   "source": [
    "# get the product of primes \n",
    "product_of_primes(50), product_of_primes(85)"
   ]
  },
  {
   "cell_type": "markdown",
   "metadata": {},
   "source": [
    "cancellation steps \n",
    "\n",
    "- Removing common 5's leaving $\\frac{2 \\cdot 5}{17}$ or $\\frac{10}{17}$"
   ]
  },
  {
   "cell_type": "markdown",
   "metadata": {},
   "source": [
    "## 4.02 Equivalent Fractions\n",
    "\n",
    "We have seen how to get to the lowest terms above, now we can look at equivalence. Equivalence is expressing the same fraction with a different base. For example we can express $\\frac{2}{3}$ as $\\frac{4}{6}$ or $\\frac{6}{9}$ or even $\\frac{70}{105}$ They all represent the same share of the whole.   \n",
    "\n",
    "In the opposite direction with reduction we can say that $\\frac{80}{100}$ is equivalent to $\\frac{4}{5}$"
   ]
  },
  {
   "cell_type": "markdown",
   "metadata": {},
   "source": [
    "## 4.03 Division of Zero\n",
    "\n",
    "Zero in the denominator means a fraction is \"undefined\". Division of zero is not possible and therefore not allowed, zero in the numerator means zero, zero in the denominator is not a possible operation.\n"
   ]
  },
  {
   "cell_type": "markdown",
   "metadata": {},
   "source": [
    "## 4.04 Addition & Subtraction of Fractions\n",
    "\n",
    "Before addition of subtraction of fractions is possible we must achieve the same denominator. Where the denominator is already the same the operation can proceed, where the denominator is different we must find the LCM (Least, or lowest, common multiple)"
   ]
  },
  {
   "cell_type": "code",
   "execution_count": 142,
   "metadata": {},
   "outputs": [],
   "source": [
    "# We have seen the LCM before in the factors\n",
    "# and multiples notebook. Therefore the repeat \n",
    "# of a concept means that we need a lowest \n",
    "# common multiple function for the purpose of \n",
    "# use here and future use. "
   ]
  },
  {
   "cell_type": "code",
   "execution_count": 143,
   "metadata": {},
   "outputs": [],
   "source": [
    "def product_of_primes(num):\n",
    "    \n",
    "    # produce a list comprehension of all prime numbers between 2-500\n",
    "    primes = [x for x in range(2, 500) if all(x % y != 0 for y in range(2, x))]\n",
    "    \n",
    "    # create a list for our products \n",
    "    pr = []\n",
    "    working_num = num\n",
    "    \n",
    "    # run the list \n",
    "    for prime in primes:\n",
    "        if working_num % prime == 0:\n",
    "            while working_num % prime == 0:\n",
    "                working_num /= prime\n",
    "                # factor identified, add to the list \n",
    "                pr.append(prime)\n",
    "                \n",
    "    # print the completed list\n",
    "    return pr"
   ]
  },
  {
   "cell_type": "code",
   "execution_count": 144,
   "metadata": {},
   "outputs": [],
   "source": [
    "def lowest_common_multiple(*args):\n",
    "    monomials = [arg for arg in args]\n",
    "    lcm_factors = []\n",
    "    \n",
    "    for mono in monomials:\n",
    "        elements = dict(Counter(element for element in product_of_primes(mono)))\n",
    "        \n",
    "        for k, v in elements.items():\n",
    "            if v > 1:\n",
    "                res = k ** v    \n",
    "            else:\n",
    "                res = k\n",
    "            \n",
    "            if lcm_factors.count(res) == 0:\n",
    "                    lcm_factors.append(res)\n",
    "                \n",
    "    return np.prod(lcm_factors)\n",
    "    "
   ]
  },
  {
   "cell_type": "code",
   "execution_count": 145,
   "metadata": {},
   "outputs": [
    {
     "data": {
      "text/plain": [
       "([2, 2, 2, 5], [5, 13])"
      ]
     },
     "execution_count": 145,
     "metadata": {},
     "output_type": "execute_result"
    }
   ],
   "source": [
    "# Check the product pf primes structures \n",
    "product_of_primes(40), product_of_primes(65) "
   ]
  },
  {
   "cell_type": "code",
   "execution_count": 146,
   "metadata": {},
   "outputs": [
    {
     "data": {
      "text/plain": [
       "520"
      ]
     },
     "execution_count": 146,
     "metadata": {},
     "output_type": "execute_result"
    }
   ],
   "source": [
    "# get the least common multiple \n",
    "res = lowest_common_multiple(40, 65)\n",
    "res"
   ]
  },
  {
   "cell_type": "code",
   "execution_count": 147,
   "metadata": {},
   "outputs": [
    {
     "data": {
      "text/plain": [
       "184.0"
      ]
     },
     "execution_count": 147,
     "metadata": {},
     "output_type": "execute_result"
    }
   ],
   "source": [
    "# Take the divisor as the multiplier for the numerator value \n",
    "(res / 65) * 23"
   ]
  },
  {
   "cell_type": "code",
   "execution_count": 148,
   "metadata": {},
   "outputs": [
    {
     "data": {
      "text/plain": [
       "221.0"
      ]
     },
     "execution_count": 148,
     "metadata": {},
     "output_type": "execute_result"
    }
   ],
   "source": [
    "# Take the divisor as the multiplier for the numerator value \n",
    "(res / 40)  * 17"
   ]
  },
  {
   "cell_type": "code",
   "execution_count": 149,
   "metadata": {},
   "outputs": [
    {
     "data": {
      "text/plain": [
       "405"
      ]
     },
     "execution_count": 149,
     "metadata": {},
     "output_type": "execute_result"
    }
   ],
   "source": [
    "184 + 221"
   ]
  },
  {
   "cell_type": "markdown",
   "metadata": {},
   "source": [
    "Step result of our operations is $\\frac {405}{520}$"
   ]
  },
  {
   "cell_type": "code",
   "execution_count": 150,
   "metadata": {},
   "outputs": [],
   "source": [
    "\n",
    "# creates a list of all matching divisors for a group of\n",
    "# monomials \n",
    "\n",
    "def greatest_common_factor(*args):\n",
    "    monomials = [arg for arg in args]\n",
    "    divisors = []\n",
    "    t_minus = max(monomials)\n",
    "    lower_bound = 1\n",
    "    \n",
    "    while t_minus >= lower_bound:\n",
    "        is_divisor = True\n",
    "        for mono in monomials:\n",
    "            if mono % t_minus != 0:\n",
    "                is_divisor = False\n",
    "                \n",
    "        if is_divisor:\n",
    "            divisors.append(t_minus)\n",
    "       \n",
    "        t_minus -= 1\n",
    "    return divisors[0]"
   ]
  },
  {
   "cell_type": "code",
   "execution_count": 151,
   "metadata": {},
   "outputs": [
    {
     "data": {
      "text/plain": [
       "5"
      ]
     },
     "execution_count": 151,
     "metadata": {},
     "output_type": "execute_result"
    }
   ],
   "source": [
    "# we can observe that as the numbers end in 5 and 0 that 5 will be a prime divisor\n",
    "# hwever to check that we can run the greatest common factor funtion. Returning 5.\n",
    "res = greatest_common_factor(405, 520)\n",
    "res"
   ]
  },
  {
   "cell_type": "code",
   "execution_count": 152,
   "metadata": {},
   "outputs": [
    {
     "data": {
      "text/plain": [
       "(81.0, 104.0)"
      ]
     },
     "execution_count": 152,
     "metadata": {},
     "output_type": "execute_result"
    }
   ],
   "source": [
    "405 / 5, 520/5 "
   ]
  },
  {
   "cell_type": "markdown",
   "metadata": {},
   "source": [
    "final result is: $\\frac{81}{104}$"
   ]
  },
  {
   "cell_type": "markdown",
   "metadata": {},
   "source": [
    "#### Exercise 1\n",
    "\n",
    "Simplify the expression $\\frac {1}{5} + \\frac{3}{7}$"
   ]
  },
  {
   "cell_type": "code",
   "execution_count": 153,
   "metadata": {},
   "outputs": [
    {
     "data": {
      "text/plain": [
       "35"
      ]
     },
     "execution_count": 153,
     "metadata": {},
     "output_type": "execute_result"
    }
   ],
   "source": [
    "res=lowest_common_multiple(5, 7)\n",
    "res"
   ]
  },
  {
   "cell_type": "markdown",
   "metadata": {},
   "source": [
    "Step result:  $\\frac{7}{35} + \\frac{15}{35}$ =  $\\frac{22}{35}$"
   ]
  },
  {
   "cell_type": "markdown",
   "metadata": {},
   "source": [
    "#### Exercise 2\n",
    "\n",
    "What is the least common denominator of the fractions: $\\frac{1}{2} + \\frac{1}{8} + \\frac{1}{20}$"
   ]
  },
  {
   "cell_type": "code",
   "execution_count": 154,
   "metadata": {},
   "outputs": [
    {
     "data": {
      "text/plain": [
       "320"
      ]
     },
     "execution_count": 154,
     "metadata": {},
     "output_type": "execute_result"
    }
   ],
   "source": [
    "res = lowest_common_multiple(2, 8, 20)\n",
    "res"
   ]
  },
  {
   "cell_type": "markdown",
   "metadata": {},
   "source": [
    "The least common multiple is 320. \n",
    "\n",
    "step result is: $\\frac{160}{320} + \\frac{40}{320} + \\frac{16}{320} = \\frac{216}{320}$"
   ]
  },
  {
   "cell_type": "markdown",
   "metadata": {},
   "source": [
    "Identified 2 as a common divisor. $\\frac{108}{160}$ then $\\frac{54}{80}$ then $\\frac{27}{40}$ "
   ]
  },
  {
   "cell_type": "markdown",
   "metadata": {},
   "source": [
    "#### Exercise 3\n",
    "\n",
    "Simplify the expression: $\\frac{10}{7} - \\frac{6}{15}$ "
   ]
  },
  {
   "cell_type": "code",
   "execution_count": 155,
   "metadata": {},
   "outputs": [
    {
     "data": {
      "text/plain": [
       "105"
      ]
     },
     "execution_count": 155,
     "metadata": {},
     "output_type": "execute_result"
    }
   ],
   "source": [
    "# step one, find the least common multiple \n",
    "res = lowest_common_multiple(7, 15)\n",
    "res"
   ]
  },
  {
   "cell_type": "code",
   "execution_count": 156,
   "metadata": {},
   "outputs": [
    {
     "data": {
      "text/plain": [
       "(150.0, 42.0)"
      ]
     },
     "execution_count": 156,
     "metadata": {},
     "output_type": "execute_result"
    }
   ],
   "source": [
    "# get the totals for the numerators with the appropriate multipliers.\n",
    "10 * (105 / 7), 6 * (105 / 15)"
   ]
  },
  {
   "cell_type": "markdown",
   "metadata": {},
   "source": [
    "Yields: $\\frac{108}{105}$"
   ]
  },
  {
   "cell_type": "code",
   "execution_count": 157,
   "metadata": {},
   "outputs": [
    {
     "data": {
      "text/plain": [
       "3"
      ]
     },
     "execution_count": 157,
     "metadata": {},
     "output_type": "execute_result"
    }
   ],
   "source": [
    "# grab the greatest common factor \n",
    "res = greatest_common_factor(108, 105)\n",
    "res"
   ]
  },
  {
   "cell_type": "code",
   "execution_count": 158,
   "metadata": {},
   "outputs": [
    {
     "data": {
      "text/plain": [
       "(36.0, 35.0)"
      ]
     },
     "execution_count": 158,
     "metadata": {},
     "output_type": "execute_result"
    }
   ],
   "source": [
    "# reduce the fraction to the lowest terms by applying the \n",
    "# division by the greatest common factor. \n",
    "108 / 3, 105 /3"
   ]
  },
  {
   "cell_type": "code",
   "execution_count": 159,
   "metadata": {},
   "outputs": [
    {
     "data": {
      "text/plain": [
       "1"
      ]
     },
     "execution_count": 159,
     "metadata": {},
     "output_type": "execute_result"
    }
   ],
   "source": [
    "# Double check it cannot be reduced further. \n",
    "# an answr of 1 conforms we are at the lowest terms \n",
    "res = greatest_common_factor(16, 35)\n",
    "res"
   ]
  },
  {
   "cell_type": "markdown",
   "metadata": {},
   "source": [
    "## 4.05 Multiplication & Division of Fractions\n",
    "\n",
    "- Multiplication:\n",
    "    - Multiply the numerators together\n",
    "    - Multiple the denominators together\n",
    "    - reduce the product to the lowest terms\n",
    "    \n",
    "- Division:\n",
    "    - Division examples should be changed to a multiplication example instead, we do this by finding the reciprocal. \n",
    "    - To get the reciprocal, we flip the positions of the numerator and denominator of the 2nd fraction\n",
    "    - The multiplication is performed and reduced to lowest terms. \n",
    "\n",
    "Additional note: \n",
    "Division examples may be written in two equally common forms.  $\\frac{5}{8} \\div \\frac{1}{2}$  or $\\frac{\\frac{5}{8}}{\\frac{1}{2}}$"
   ]
  },
  {
   "cell_type": "markdown",
   "metadata": {},
   "source": [
    "#### Exercise 1\n",
    "\n",
    "Simplify the expression: $\\frac{2}{21} \\cdot \\frac{3}{5}$ "
   ]
  },
  {
   "cell_type": "code",
   "execution_count": 160,
   "metadata": {},
   "outputs": [
    {
     "data": {
      "text/plain": [
       "(6, 105)"
      ]
     },
     "execution_count": 160,
     "metadata": {},
     "output_type": "execute_result"
    }
   ],
   "source": [
    "# perform the cross multiplications\n",
    "\n",
    "2 * 3, 21 * 5"
   ]
  },
  {
   "cell_type": "code",
   "execution_count": 161,
   "metadata": {},
   "outputs": [
    {
     "data": {
      "text/plain": [
       "3"
      ]
     },
     "execution_count": 161,
     "metadata": {},
     "output_type": "execute_result"
    }
   ],
   "source": [
    "res = greatest_common_factor(6, 105)\n",
    "res"
   ]
  },
  {
   "cell_type": "markdown",
   "metadata": {},
   "source": [
    "Yields:  $\\frac{2}{35}$ "
   ]
  },
  {
   "cell_type": "markdown",
   "metadata": {},
   "source": [
    "#### Example 2\n",
    "\n",
    "Multiply the fractions: $\\frac{3}{5} \\cdot \\frac{1}{2} \\cdot \\frac{5}{6}$\n",
    "\n"
   ]
  },
  {
   "cell_type": "code",
   "execution_count": 162,
   "metadata": {},
   "outputs": [
    {
     "data": {
      "text/plain": [
       "(15, 60)"
      ]
     },
     "execution_count": 162,
     "metadata": {},
     "output_type": "execute_result"
    }
   ],
   "source": [
    "3 * 1 * 5, 5 * 2 * 6"
   ]
  },
  {
   "cell_type": "markdown",
   "metadata": {},
   "source": [
    "$\\frac{15}{60}$ can be reduced to $\\frac{3}{12}$ which in turn can be reduced by 3, yielding $\\frac{1}{4}$"
   ]
  },
  {
   "cell_type": "markdown",
   "metadata": {},
   "source": [
    "#### Example 3\n",
    "\n",
    "resolve $\\frac{1}{2} \\div \\frac{1}{7}$"
   ]
  },
  {
   "cell_type": "markdown",
   "metadata": {},
   "source": [
    "convert to a multiplication problem using the reciprocal of the 2nd fraction.\n",
    "\n",
    "we now have $\\frac{1}{2} \\cdot \\frac{7}{1}$"
   ]
  },
  {
   "cell_type": "code",
   "execution_count": 163,
   "metadata": {},
   "outputs": [
    {
     "data": {
      "text/plain": [
       "(7, 2)"
      ]
     },
     "execution_count": 163,
     "metadata": {},
     "output_type": "execute_result"
    }
   ],
   "source": [
    "1 * 7, 2 * 1"
   ]
  },
  {
   "cell_type": "markdown",
   "metadata": {},
   "source": [
    "result is:  $\\frac{7}{2}$"
   ]
  },
  {
   "cell_type": "markdown",
   "metadata": {},
   "source": [
    "## 4.06 Signs of Fractions\n",
    "\n",
    "Up until now we have looked at and covered only positive fractions. Fractions can have 3 signs possibilities: \n",
    "- $\\frac{-2}{3}$\n",
    "\n",
    "- $\\frac{2}{-3}$\n",
    "\n",
    "- $- \\frac{2}{3}$\n",
    "\n",
    "Any or all of these can be a factor in our problem statement. To simplify the problem statement we look to match the signs of fractions where they differ. \n",
    "\n",
    "- You can change any two signs without changing the value of the statement. This means: $+\\frac{+1}{-2}$ is the same as $- \\frac{1}{2}$"
   ]
  },
  {
   "cell_type": "markdown",
   "metadata": {},
   "source": [
    "#### Example 1\n",
    "\n",
    "$\\frac{+1}{x -3} - \\frac{+4}{-x +3}$"
   ]
  },
  {
   "cell_type": "markdown",
   "metadata": {},
   "source": [
    "Step one, we want to get the signs of the denominators to match, on the left we have a positive `x` and on the right we have a negative `x`. To do so we can parenthesise the right denominator that implies a positive result: $\\frac{+1}{x -3} - \\frac{+4}{(-x +3)}$ instead we can flip that to be negative: $\\frac{+1}{x -3} - \\frac{+4}{-(-x +3)}$  We can now cancel the double negative to a positive and flip the remaining signs giving us: $\\frac{1}{x -3} + \\frac{4}{x -3}$ and finally $\\frac{5}{x -3}$"
   ]
  },
  {
   "cell_type": "markdown",
   "metadata": {},
   "source": [
    "## 4.07 Reciprocals\n",
    "\n",
    "The reciprocal of a fraction is the fraction with the numerator and denominator flipped. ie. $\\frac{1}{3}$ becomes $\\frac{3}{1}$ If a negative sign is present then we must carry that also, meaning: $\\frac{-9}{2}$ becomes $\\frac{2}{-9}$\n",
    "\n",
    "If the entire fraction is a negative that should persist. Thus: $- \\frac{7}{3}$ becomes $-\\frac{3}{7}$\n",
    "\n",
    "Notes: \n",
    "- if you multiply a fraction by it's reciprocal you will always yield 1. \n",
    "- Even if the entire fraction is negative, a reciprocal multiplication will yield 1, with sign cancellation applying. \n",
    "- The purpose is to answer what we must apply to achieve 1. \n",
    "- Therefore the only number without a reciprocal is 0. "
   ]
  }
 ],
 "metadata": {
  "kernelspec": {
   "display_name": "cvkit",
   "language": "python",
   "name": "cvkit"
  },
  "language_info": {
   "codemirror_mode": {
    "name": "ipython",
    "version": 3
   },
   "file_extension": ".py",
   "mimetype": "text/x-python",
   "name": "python",
   "nbconvert_exporter": "python",
   "pygments_lexer": "ipython3",
   "version": "3.6.6"
  }
 },
 "nbformat": 4,
 "nbformat_minor": 4
}