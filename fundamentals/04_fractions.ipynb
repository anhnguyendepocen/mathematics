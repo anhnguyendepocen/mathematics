{
 "cells": [
  {
   "cell_type": "markdown",
   "metadata": {},
   "source": [
    "# The Number Systems of Mathematics\n",
    "\n",
    "## Fractions"
   ]
  },
  {
   "cell_type": "markdown",
   "metadata": {},
   "source": [
    "Fractions are rational numbers which means they ratio of integers. Fractions should be thought of as part of a whole. a fraction will always be a two part structure where we have the numerator and the denominator. Typically it will physically resemble $\\frac {2}{3}$ or $\\frac {11}{17}$ etc.. Fractional structures can be looked at as demonstrating the partial value between zero and one. "
   ]
  },
  {
   "cell_type": "markdown",
   "metadata": {},
   "source": [
    "## Simplification and Cancellation\n",
    "\n",
    "The aim is to reduce a fraction to its lowest terms. This is done by simplification and cancellation, for instance, assume we look at $\\frac {50}{100}$ we can see that this is a half, which is the same as $\\frac {5}{10}$. But we can further simplify. Indeed it's the same as $\\frac {2}{4}$ but that's still not the lowest terms. We can see that a half or 50% can be written as $\\frac {1}{2}$ and this is the lowest terms we can reach for our values.  \n",
    "\n",
    "To deduce the lowest terms we can use prime factorization again. "
   ]
  },
  {
   "cell_type": "code",
   "execution_count": 1,
   "metadata": {},
   "outputs": [],
   "source": [
    "# returns the product values as a list. \n",
    "def product_of_primes(num):\n",
    "    \n",
    "    # produce a list comprehension of all prime numbers between 2-500\n",
    "    primes = [x for x in range(2, 500) if all(x % y != 0 for y in range(2, x))]\n",
    "    \n",
    "    # create a list for our products \n",
    "    pr = []\n",
    "    working_num = num\n",
    "    \n",
    "    # run the list \n",
    "    for prime in primes:\n",
    "        if working_num % prime == 0:\n",
    "            while working_num % prime == 0:\n",
    "                working_num /= prime\n",
    "                # factor identified, add to the list \n",
    "                pr.append(prime)\n",
    "                \n",
    "    # print the completed list\n",
    "    return pr"
   ]
  },
  {
   "cell_type": "markdown",
   "metadata": {},
   "source": [
    "#### Example 1\n",
    "\n",
    "Problem statement definition: $\\frac {10}{24}$"
   ]
  },
  {
   "cell_type": "code",
   "execution_count": 3,
   "metadata": {},
   "outputs": [
    {
     "data": {
      "text/plain": [
       "([2, 5], [2, 2, 2, 3])"
      ]
     },
     "execution_count": 3,
     "metadata": {},
     "output_type": "execute_result"
    }
   ],
   "source": [
    "product_of_primes(10), product_of_primes(24)"
   ]
  },
  {
   "cell_type": "markdown",
   "metadata": {},
   "source": [
    "We can now use cancellation to cancel the leading 2 from both the numerator and denominator. Therefore we now can express $\\frac {10}{24}$ as $\\frac {5}{2^2 \\cdot 3}$ This may still be confusing to look at therefore we can resolve $2^2 \\cdot 3$ as $2 \\cdot 2 \\cdot 3$ or 12.  The complete reduction process gives us $\\frac {5}{12}$"
   ]
  },
  {
   "cell_type": "markdown",
   "metadata": {},
   "source": [
    "#### Example 2\n",
    "\n",
    "Problem statement definition: $\\frac {54}{81}$"
   ]
  },
  {
   "cell_type": "code",
   "execution_count": 4,
   "metadata": {},
   "outputs": [
    {
     "data": {
      "text/plain": [
       "([2, 3, 3, 3], [3, 3, 3, 3])"
      ]
     },
     "execution_count": 4,
     "metadata": {},
     "output_type": "execute_result"
    }
   ],
   "source": [
    "product_of_primes(54), product_of_primes(81)"
   ]
  },
  {
   "cell_type": "markdown",
   "metadata": {},
   "source": [
    "Process of cancellation allows us to remove three 3's from each side of our fraction, thus leaving us with $\\frac {2}{3}$"
   ]
  },
  {
   "cell_type": "markdown",
   "metadata": {},
   "source": [
    "#### Example 3\n",
    "\n",
    "Problem statement definition: $\\frac {56}{27} \\cdot \\frac{14}{21} \\cdot \\frac{15}{22}$"
   ]
  },
  {
   "cell_type": "code",
   "execution_count": 6,
   "metadata": {},
   "outputs": [
    {
     "data": {
      "text/plain": [
       "([2, 2, 2, 7], [3, 3, 3])"
      ]
     },
     "execution_count": 6,
     "metadata": {},
     "output_type": "execute_result"
    }
   ],
   "source": [
    "# step 1 - calculate the product of primes for 56/27\n",
    "product_of_primes(56), product_of_primes(27)"
   ]
  },
  {
   "cell_type": "code",
   "execution_count": 7,
   "metadata": {},
   "outputs": [
    {
     "data": {
      "text/plain": [
       "([2, 7], [3, 7])"
      ]
     },
     "execution_count": 7,
     "metadata": {},
     "output_type": "execute_result"
    }
   ],
   "source": [
    "# step 2 - calculate the product of primes for 14/21\n",
    "product_of_primes(14), product_of_primes(21)"
   ]
  },
  {
   "cell_type": "code",
   "execution_count": 8,
   "metadata": {},
   "outputs": [
    {
     "data": {
      "text/plain": [
       "([3, 5], [2, 11])"
      ]
     },
     "execution_count": 8,
     "metadata": {},
     "output_type": "execute_result"
    }
   ],
   "source": [
    "# step 3 - calculate the product of primes for 15/22\n",
    "product_of_primes(15), product_of_primes(22)"
   ]
  },
  {
   "cell_type": "markdown",
   "metadata": {},
   "source": [
    "At this point we now have: $\\frac{2^3 \\cdot 7}{3^3} \\cdot \\frac{2}{3} \\cdot \\frac{3 \\cdot 5}{2 \\cdot 11}$\n",
    "\n",
    "Next step is identifying we have 3 in the denominator in $\\frac{2}{3}$ and 15 in the numerator of $\\frac{15}{22}$ and the 2 and 11 are also divisible, therefore that leaves $\\frac{1}{1} \\cdot \\frac{5}{11}$ meaning the $\\frac{1}{1}$ can be cancelled completely.\n",
    "\n",
    "Now we have: $\\frac{2^3 \\cdot 7}{3^3} \\cdot \\frac{5}{11}$\n",
    "    \n",
    "We cannot reduce any further, so we now have to take the whole numerator/denominator result. $56 \\cdot 5$ and $27 \\cdot 11$ = $\\frac{280}{297}$"
   ]
  },
  {
   "cell_type": "markdown",
   "metadata": {},
   "source": [
    "#### Example 4\n",
    "\n",
    "Problem statement Definition: $\\frac{12}{105} \\cdot \\frac{14}{30} \\cdot \\frac{15}{14}$\n",
    "\n",
    "Step 1 - Immediate cancellation allows us to see the matches in the last two fractions, the 14's in the numerator and demonimator cancel each other, the 15 and 30 can be reduced, therefore we have $\\frac{1}{2} \\cdot \\frac{1}{1}$ the last of which can be cancelled completely. Leaving the new problem statement to be: $\\frac{12}{105} \\cdot \\frac{1}{2}$\n",
    "\n",
    "Step 2 - Further cancellation, we can see the 12 in the numerator and the 2 in the denominator are divisibe, leaving:$\\frac{6}{105} \\cdot \\frac{1}{1}$ and the $\\frac{1}{1}$ can be removed completely. We now have $\\frac{6}{105}$ which are divisible by 3. \n",
    "\n",
    "Step 3 - After the divison by 3 we have $\\frac{2}{35}$"
   ]
  },
  {
   "cell_type": "markdown",
   "metadata": {},
   "source": [
    "#### Example 5\n",
    "\n",
    "Problem statement definition $\\frac{50}{85}$"
   ]
  },
  {
   "cell_type": "code",
   "execution_count": 12,
   "metadata": {},
   "outputs": [
    {
     "data": {
      "text/plain": [
       "([2, 5, 5], [5, 17])"
      ]
     },
     "execution_count": 12,
     "metadata": {},
     "output_type": "execute_result"
    }
   ],
   "source": [
    "product_of_primes(50), product_of_primes(85)"
   ]
  },
  {
   "cell_type": "code",
   "execution_count": null,
   "metadata": {},
   "outputs": [],
   "source": [
    "# cancellation step of removing common 5's leaves "
   ]
  }
 ],
 "metadata": {
  "kernelspec": {
   "display_name": "cvkit",
   "language": "python",
   "name": "cvkit"
  },
  "language_info": {
   "codemirror_mode": {
    "name": "ipython",
    "version": 3
   },
   "file_extension": ".py",
   "mimetype": "text/x-python",
   "name": "python",
   "nbconvert_exporter": "python",
   "pygments_lexer": "ipython3",
   "version": "3.6.6"
  }
 },
 "nbformat": 4,
 "nbformat_minor": 4
}
