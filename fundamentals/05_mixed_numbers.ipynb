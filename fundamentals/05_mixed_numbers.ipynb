{
 "cells": [
  {
   "cell_type": "markdown",
   "metadata": {},
   "source": [
    "# The Number Systems of Mathematics\n",
    "\n",
    "## Mixed Numbers\n",
    "\n",
    "- Mixed umbers & improper fractions\n",
    "- Adding & subtracting mixed numbers\n",
    "- Multiplying & dividing mixed numbers\n",
    "- Relationships of numbers\n",
    "- Adding mixed measures"
   ]
  },
  {
   "cell_type": "code",
   "execution_count": 1,
   "metadata": {},
   "outputs": [],
   "source": [
    "import numpy as np"
   ]
  },
  {
   "cell_type": "markdown",
   "metadata": {},
   "source": [
    "Mixed numbers and improper fractions are two common ways to express the same thing. This is why it makes sense to learn them together. For example, we can say that $1 \\frac{1}{2}$ is the same value as $\\frac{3}{2}$\n",
    "\n",
    "An improper fraction is top heavy, it equates to more than one, whereas the `proper` fractions we have seen up until now are less than one because they're fractional. \n",
    "\n",
    "Rules: \n",
    "- Proper fractions: numerator is less than the denominator\n",
    "- Improper fractions: numerator is greater than the denominator\n"
   ]
  },
  {
   "cell_type": "code",
   "execution_count": null,
   "metadata": {},
   "outputs": [],
   "source": []
  }
 ],
 "metadata": {
  "kernelspec": {
   "display_name": "cvkit",
   "language": "python",
   "name": "cvkit"
  },
  "language_info": {
   "codemirror_mode": {
    "name": "ipython",
    "version": 3
   },
   "file_extension": ".py",
   "mimetype": "text/x-python",
   "name": "python",
   "nbconvert_exporter": "python",
   "pygments_lexer": "ipython3",
   "version": "3.6.6"
  }
 },
 "nbformat": 4,
 "nbformat_minor": 4
}
