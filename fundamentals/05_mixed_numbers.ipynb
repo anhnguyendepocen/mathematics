{
 "cells": [
  {
   "cell_type": "markdown",
   "metadata": {},
   "source": [
    "# The Number Systems of Mathematics\n",
    "\n",
    "## Mixed Numbers\n",
    "\n",
    "- Mixed numbers & improper fractions\n",
    "- Adding & subtracting mixed numbers\n",
    "- Multiplying & dividing mixed numbers\n",
    "- Relationships of numbers\n",
    "- Adding mixed measures"
   ]
  },
  {
   "cell_type": "code",
   "execution_count": 19,
   "metadata": {},
   "outputs": [],
   "source": [
    "# python imports\n",
    "from collections import Counter\n",
    "import numpy as np"
   ]
  },
  {
   "cell_type": "markdown",
   "metadata": {},
   "source": [
    "Mixed numbers and improper fractions are two common ways to express the same thing. This is why it makes sense to learn them together. For example, we can say that $1 \\frac{1}{2}$ is the same value as $\\frac{3}{2}$\n",
    "\n",
    "An improper fraction is top heavy, it equates to more than one, whereas the `proper` fractions we have seen up until now are less than one because they're fractional. \n",
    "\n",
    "Rules: \n",
    "- Proper fractions: numerator is less than the denominator\n",
    "- Improper fractions: numerator is greater than the denominator\n"
   ]
  },
  {
   "cell_type": "markdown",
   "metadata": {},
   "source": [
    "#### Example 1\n",
    "\n",
    "- we have $3\\frac{1}{2}$ \n",
    "- In order to calculate the improper fraction we must:\n",
    "    - Take the fractional demonimator multiplied by the whole, add the numerator.\n",
    "    - This gives us $\\frac{7}{2}$"
   ]
  },
  {
   "cell_type": "markdown",
   "metadata": {},
   "source": [
    "#### Example 2\n",
    "- We have $6\\frac{1}{4}$\n",
    "- Calculate the improper fraction:\n",
    "    - (denominator * whole) + numerator: $4 \\cdot 6 + 1$ = $\\frac{25}{4}$\n",
    "    \n",
    "- to work the example backwards we must:\n",
    "    - $25 \\div 4$ = 6 with 1 carried over, therefore $6 \\frac{1}{4}$"
   ]
  },
  {
   "cell_type": "markdown",
   "metadata": {},
   "source": [
    "## Adding & Subtracting Mixed Numbers\n",
    "\n",
    "When adding, or subtracting, a set of mixed numbers.\n",
    "- Treat the whole numbers separately. \n",
    "- Reach a common denominator for the fractions. \n",
    "- reduce fraction to yield solution. "
   ]
  },
  {
   "cell_type": "markdown",
   "metadata": {},
   "source": [
    "#### Example 3\n",
    "\n",
    "- We have: $2 \\frac{3}{4} + 3 \\frac{1}{8} + 7 \\frac{1}{2}$\n",
    "- Step one is to take the wholes, 2, 3 & 7. \n",
    "- Now work the fractions: \n",
    "    - Assess the denominators and we see we have: 4, 8 & 2 therefore we can use 8 as our common denominator.\n",
    "    - the fractions are now $\\frac{6}{8} + \\frac{1}{8} + \\frac{4}{8}\n",
    "    \n",
    "Solutions: \n",
    "- The proper fraction is that we have $13 \\frac{3}{8}$\n",
    "\n",
    "- the improper fraction is that we have $\\frac{107}{8}$"
   ]
  },
  {
   "cell_type": "markdown",
   "metadata": {},
   "source": [
    "#### Example 4\n",
    "\n",
    "- We have $4 \\frac{1}{5} - 1 \\frac{1}{2}$\n",
    "- take the wholes, 4 & 1. \n",
    "- Work the fractions:\n",
    "    - a denominator of 5 and 2 means our lowest common multiple is 10. The fractions are now: $\\frac{2}{10} - \\frac{5}{10}$ \n",
    "    - $\\frac{2}{10} - \\frac{5}{10}$ = $- \\frac{7}{10}$ so we must take one of our wholes.\n",
    "    \n",
    "Solution: \n",
    "- $4 - 1 - 1 + \\frac{7}{10}$ or $2 \\frac{7}{10}$"
   ]
  },
  {
   "cell_type": "markdown",
   "metadata": {},
   "source": [
    "## Multiplication & Division of Mixed Numbers "
   ]
  },
  {
   "cell_type": "markdown",
   "metadata": {},
   "source": [
    "Method for multiplication: \n",
    "    \n",
    "- change the mixed numbers to an improper fraction. \n",
    "- multiply the numerators by the denominators\n",
    "- work back to a mixed number. \n",
    "\n",
    "Method for Division:\n",
    "- change the mixed numbers to an improper fraction. \n",
    "- divide the numerators by denominators\n",
    "- work back to mixed number"
   ]
  },
  {
   "cell_type": "markdown",
   "metadata": {},
   "source": [
    "#### Example 1\n",
    "\n",
    "- We have $4 \\frac{1}{2} \\cdot 5 \\frac{3}{4}$\n",
    "\n",
    "- as improper fractions, we have: $\\frac{19}{2} \\cdot \\frac{23}{4}$ or $\\frac{207}{8}$\n",
    "- as a mixed number $25 \\frac{7}{8}$"
   ]
  },
  {
   "cell_type": "code",
   "execution_count": 9,
   "metadata": {},
   "outputs": [
    {
     "data": {
      "text/plain": [
       "(25, 7)"
      ]
     },
     "execution_count": 9,
     "metadata": {},
     "output_type": "execute_result"
    }
   ],
   "source": [
    "207 // 8, 207 % 8"
   ]
  },
  {
   "cell_type": "markdown",
   "metadata": {},
   "source": [
    "#### Example 2\n",
    "\n",
    "- We have: $2 \\frac{1}{4} \\cdot 1 \\frac{1}{5}$\n",
    "- convert to improper fractions\n",
    "    - $\\frac{9}{4} \\cdot \\frac{6}{5}$ = $\\frac{54}{20}$\n",
    "    \n",
    "Solution: \n",
    "- $2 \\frac{7}{10}$"
   ]
  },
  {
   "cell_type": "markdown",
   "metadata": {},
   "source": [
    "#### Example 3\n",
    "\n",
    "- we have $4 \\frac{1}{2} \\div 5 \\frac{3}{4}$\n",
    "\n",
    "- Convert to improper fractions: $\\frac{9}{2} \\div \\frac{23}{4}$\n",
    "\n",
    "- We take the reciprocal of the 2nd fraction to enable us to convert to a multiplication problem: $\\frac{9}{2} \\cdot \\frac{4}{23}$\n",
    "\n",
    "Solution:\n",
    "- $\\frac{36}{46}$ or $\\frac{18}{23}$"
   ]
  },
  {
   "cell_type": "markdown",
   "metadata": {},
   "source": [
    "#### Example 4\n",
    "\n",
    "- We have: $2 \\frac{1}{4} \\div 1 \\frac{1}{5}$\n",
    "\n",
    "- convert to improper fractions: $\\frac{9}{4} \\div \\frac{6}{5}$\n",
    "\n",
    "- Take the reciprocal of the 2nd to create a multiplication problem: $\\frac{9}{4} \\cdot \\frac{5}{6}$ = $\\frac{45}{24}$\n",
    "    \n",
    "solution:\n",
    "- $\\frac{45}{24}$ or $1 \\frac{7}{8}$\n",
    "    "
   ]
  },
  {
   "cell_type": "code",
   "execution_count": 15,
   "metadata": {},
   "outputs": [],
   "source": [
    "# returns the product values as a list. \n",
    "def product_of_primes(num):\n",
    "    \n",
    "    # produce a list comprehension of all prime numbers between 2-500\n",
    "    primes = [x for x in range(2, 500) if all(x % y != 0 for y in range(2, x))]\n",
    "    \n",
    "    # create a list for our products \n",
    "    pr = []\n",
    "    working_num = num\n",
    "    \n",
    "    # run the list \n",
    "    for prime in primes:\n",
    "        if working_num % prime == 0:\n",
    "            while working_num % prime == 0:\n",
    "                working_num /= prime\n",
    "                # factor identified, add to the list \n",
    "                pr.append(prime)\n",
    "                \n",
    "    # print the completed list\n",
    "    return pr"
   ]
  },
  {
   "cell_type": "code",
   "execution_count": 16,
   "metadata": {},
   "outputs": [],
   "source": [
    "def lowest_common_multiple(*args):\n",
    "    monomials = [arg for arg in args]\n",
    "    lcm_factors = []\n",
    "    \n",
    "    for mono in monomials:\n",
    "        elements = dict(Counter(element for element in product_of_primes(mono)))\n",
    "        \n",
    "        for k, v in elements.items():\n",
    "            if v > 1:\n",
    "                res = k ** v    \n",
    "            else:\n",
    "                res = k\n",
    "            \n",
    "            if lcm_factors.count(res) == 0:\n",
    "                    lcm_factors.append(res)\n",
    "                \n",
    "    return np.prod(lcm_factors)"
   ]
  },
  {
   "cell_type": "code",
   "execution_count": 21,
   "metadata": {},
   "outputs": [],
   "source": [
    "\n",
    "# creates a list of all matching divisors for a group of\n",
    "# monomials \n",
    "\n",
    "def greatest_common_factor(*args):\n",
    "    monomials = [arg for arg in args]\n",
    "    divisors = []\n",
    "    t_minus = max(monomials)\n",
    "    lower_bound = 1\n",
    "    \n",
    "    while t_minus >= lower_bound:\n",
    "        is_divisor = True\n",
    "        for mono in monomials:\n",
    "            if mono % t_minus != 0:\n",
    "                is_divisor = False\n",
    "                \n",
    "        if is_divisor:\n",
    "            divisors.append(t_minus)\n",
    "       \n",
    "        t_minus -= 1\n",
    "    return divisors[0]"
   ]
  },
  {
   "cell_type": "markdown",
   "metadata": {},
   "source": [
    "#### Example 5\n",
    "\n",
    "- we have: $3 \\frac{1}{6} \\div 1 \\frac{1}{8}$\n",
    "\n",
    "- convert to improper fractions: $\\frac{19}{6} \\div \\frac{9}{8}$\n",
    "    \n",
    "- get the reciprocal and convert to multiplication: $\\frac{19}{6} \\cdot \\frac{8}{9}$\n",
    "    \n",
    "Solution:\n",
    "- $\\frac{152}{54}$ or $\\frac{76}{27}$ or $2 \\frac{22}{27}$"
   ]
  },
  {
   "cell_type": "code",
   "execution_count": 12,
   "metadata": {},
   "outputs": [
    {
     "data": {
      "text/plain": [
       "152"
      ]
     },
     "execution_count": 12,
     "metadata": {},
     "output_type": "execute_result"
    }
   ],
   "source": [
    "19 * 8"
   ]
  },
  {
   "cell_type": "code",
   "execution_count": 22,
   "metadata": {},
   "outputs": [
    {
     "data": {
      "text/plain": [
       "2"
      ]
     },
     "execution_count": 22,
     "metadata": {},
     "output_type": "execute_result"
    }
   ],
   "source": [
    "greatest_common_factor(152, 54)"
   ]
  },
  {
   "cell_type": "code",
   "execution_count": 23,
   "metadata": {},
   "outputs": [
    {
     "data": {
      "text/plain": [
       "(76.0, 27.0)"
      ]
     },
     "execution_count": 23,
     "metadata": {},
     "output_type": "execute_result"
    }
   ],
   "source": [
    "152 / 2, 54 / 2"
   ]
  },
  {
   "cell_type": "code",
   "execution_count": 24,
   "metadata": {},
   "outputs": [
    {
     "data": {
      "text/plain": [
       "(2, 22)"
      ]
     },
     "execution_count": 24,
     "metadata": {},
     "output_type": "execute_result"
    }
   ],
   "source": [
    "76 // 27, 76 % 27"
   ]
  },
  {
   "cell_type": "markdown",
   "metadata": {},
   "source": [
    "## Relationships of Numbers"
   ]
  },
  {
   "cell_type": "markdown",
   "metadata": {},
   "source": [
    "We're going to assess the relationship between fractional numbers. Let's take a typical prob;em definition for this area of study. \n",
    "\n",
    "\n",
    "#### Example 1\n",
    "\n",
    "Find a number that's $\\frac{1}{5}$ of the way from $\\frac{1}{8}$ to $\\frac{9}{11}$"
   ]
  },
  {
   "cell_type": "markdown",
   "metadata": {},
   "source": [
    "Method: \n",
    "- we take the larger number and subtract the lesser number. \n",
    "- To perform the subtraction we need to find a common denominator\n",
    "    - To get the LCM we pass both to our lcm function and the result is 88 \n",
    "        - $\\frac{9}{11} \\cdot \\frac{8}{8} = \\frac{72}{88}$\n",
    "        - $\\frac{1}{8} \\cdot \\frac{11}{11} = \\frac{11}{88}$\n",
    "    -- $\\frac{72}{88} - \\frac{11}{88} = \\frac{61}{88}$\n",
    "    \n",
    "Conclusion 1: The distance between $\\frac{1}{8}$ and $\\frac{9}{11}$ is $\\frac{61}{88}$\n",
    "\n",
    "To find a fifth of the complete distance we have to multiply by \\frac{1}{5}$\n",
    "- $\\frac{61}{88} \\cdot \\frac{1}{5} = \\frac{61}{440}$\n",
    "\n",
    "Solution: \n",
    "- $\\frac{1}{8} + \\frac{61}{440}$ = $\\frac{55}{440} + \\frac{61}{440}$ = $\\frac{116}{440}$ = $\\frac{29}{110}$  "
   ]
  },
  {
   "cell_type": "code",
   "execution_count": 32,
   "metadata": {},
   "outputs": [
    {
     "data": {
      "text/plain": [
       "8"
      ]
     },
     "execution_count": 32,
     "metadata": {},
     "output_type": "execute_result"
    }
   ],
   "source": [
    "58/220\n",
    "29/110"
   ]
  },
  {
   "cell_type": "markdown",
   "metadata": {},
   "source": [
    "#### Example 2\n",
    "\n",
    "Q: Which fraction is greater? $\\frac{4}{5}$ or $\\frac{7}{10}$\n",
    "    \n",
    "- Find common denominator: 10 means $\\frac{8}{10}$ or $\\frac{7}{10}$\n",
    "    \n",
    "Solution: \n",
    "- $\\frac{4}{5}$ or $\\frac{8}{10}$ is greater!\n",
    "        "
   ]
  },
  {
   "cell_type": "markdown",
   "metadata": {},
   "source": [
    "## Adding Mixed Measures "
   ]
  },
  {
   "cell_type": "code",
   "execution_count": null,
   "metadata": {},
   "outputs": [],
   "source": []
  },
  {
   "cell_type": "code",
   "execution_count": null,
   "metadata": {},
   "outputs": [],
   "source": []
  },
  {
   "cell_type": "code",
   "execution_count": null,
   "metadata": {},
   "outputs": [],
   "source": []
  }
 ],
 "metadata": {
  "kernelspec": {
   "display_name": "cvkit",
   "language": "python",
   "name": "cvkit"
  },
  "language_info": {
   "codemirror_mode": {
    "name": "ipython",
    "version": 3
   },
   "file_extension": ".py",
   "mimetype": "text/x-python",
   "name": "python",
   "nbconvert_exporter": "python",
   "pygments_lexer": "ipython3",
   "version": "3.6.6"
  }
 },
 "nbformat": 4,
 "nbformat_minor": 4
}
