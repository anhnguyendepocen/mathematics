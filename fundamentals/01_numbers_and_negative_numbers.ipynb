{
 "cells": [
  {
   "cell_type": "markdown",
   "metadata": {},
   "source": [
    "# Numbers"
   ]
  },
  {
   "cell_type": "markdown",
   "metadata": {},
   "source": [
    "### Numeric terminology\n",
    "\n",
    "- Natural numbers: so called natural numbers because we tend to count from 1 upward. \n",
    "- Whole numbers: a number set that is zero indexed, so [0,1,2,3,4,5...] and so on. This includes all `natural numbers`. \n",
    "- Integers: zero, positive or negative numbers that have no fractional part. \n",
    "- Rational numbers: All natural, whole and integer sets with the adition of fractional inclusion. \n",
    "- Real numbers: All sets together are recognised as the 'real number system'.\n",
    "\n",
    "Real numbers also includes irrational number sets. \n",
    "- Values that cannot be written as fractions. eg, square root of 2, pi.\n",
    "\n",
    "### Signage \n",
    "- R: Real numbers systems are often depicted with the 'R' symbol.\n",
    "- Q: Rational numbers\n",
    "- Z: Integers\n",
    "- W: Whole numbers\n",
    "- N: Natural numbers\n",
    "- R-Q: Irrational numbers. "
   ]
  },
  {
   "cell_type": "markdown",
   "metadata": {},
   "source": [
    " ### Identity numbers \n",
    "\n",
    "- Addition is zero\n",
    "- Multiplication is one. "
   ]
  },
  {
   "cell_type": "code",
   "execution_count": null,
   "metadata": {},
   "outputs": [],
   "source": []
  }
 ],
 "metadata": {
  "kernelspec": {
   "display_name": "cvkit",
   "language": "python",
   "name": "cvkit"
  },
  "language_info": {
   "codemirror_mode": {
    "name": "ipython",
    "version": 3
   },
   "file_extension": ".py",
   "mimetype": "text/x-python",
   "name": "python",
   "nbconvert_exporter": "python",
   "pygments_lexer": "ipython3",
   "version": "3.6.6"
  }
 },
 "nbformat": 4,
 "nbformat_minor": 4
}
